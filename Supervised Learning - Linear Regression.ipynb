{
 "cells": [
  {
   "cell_type": "code",
   "execution_count": 1,
   "metadata": {},
   "outputs": [
    {
     "name": "stderr",
     "output_type": "stream",
     "text": [
      "Vendor:  Continuum Analytics, Inc.\n",
      "Package: mkl\n",
      "Message: trial mode expires in 30 days\n"
     ]
    }
   ],
   "source": [
    "import numpy as np\n",
    "import pandas as pd\n",
    "from pandas import Series, DataFrame"
   ]
  },
  {
   "cell_type": "code",
   "execution_count": 2,
   "metadata": {},
   "outputs": [
    {
     "name": "stderr",
     "output_type": "stream",
     "text": [
      "C:\\Users\\yang\\Anaconda3\\envs\\python_2_7\\lib\\site-packages\\IPython\\html.py:14: ShimWarning: The `IPython.html` package has been deprecated since IPython 4.0. You should import from `notebook` instead. `IPython.html.widgets` has moved to `ipywidgets`.\n",
      "  \"`IPython.html.widgets` has moved to `ipywidgets`.\", ShimWarning)\n"
     ]
    }
   ],
   "source": [
    "import matplotlib.pyplot as plt\n",
    "import seaborn as sns\n",
    "\n",
    "sns.set_style('whitegrid')\n",
    "%matplotlib inline"
   ]
  },
  {
   "cell_type": "code",
   "execution_count": 3,
   "metadata": {
    "collapsed": true
   },
   "outputs": [],
   "source": [
    "from sklearn.datasets import load_boston"
   ]
  },
  {
   "cell_type": "code",
   "execution_count": 4,
   "metadata": {
    "collapsed": true
   },
   "outputs": [],
   "source": [
    "boston = load_boston()"
   ]
  },
  {
   "cell_type": "code",
   "execution_count": 5,
   "metadata": {},
   "outputs": [
    {
     "name": "stdout",
     "output_type": "stream",
     "text": [
      "Boston House Prices dataset\n",
      "\n",
      "Notes\n",
      "------\n",
      "Data Set Characteristics:  \n",
      "\n",
      "    :Number of Instances: 506 \n",
      "\n",
      "    :Number of Attributes: 13 numeric/categorical predictive\n",
      "    \n",
      "    :Median Value (attribute 14) is usually the target\n",
      "\n",
      "    :Attribute Information (in order):\n",
      "        - CRIM     per capita crime rate by town\n",
      "        - ZN       proportion of residential land zoned for lots over 25,000 sq.ft.\n",
      "        - INDUS    proportion of non-retail business acres per town\n",
      "        - CHAS     Charles River dummy variable (= 1 if tract bounds river; 0 otherwise)\n",
      "        - NOX      nitric oxides concentration (parts per 10 million)\n",
      "        - RM       average number of rooms per dwelling\n",
      "        - AGE      proportion of owner-occupied units built prior to 1940\n",
      "        - DIS      weighted distances to five Boston employment centres\n",
      "        - RAD      index of accessibility to radial highways\n",
      "        - TAX      full-value property-tax rate per $10,000\n",
      "        - PTRATIO  pupil-teacher ratio by town\n",
      "        - B        1000(Bk - 0.63)^2 where Bk is the proportion of blacks by town\n",
      "        - LSTAT    % lower status of the population\n",
      "        - MEDV     Median value of owner-occupied homes in $1000's\n",
      "\n",
      "    :Missing Attribute Values: None\n",
      "\n",
      "    :Creator: Harrison, D. and Rubinfeld, D.L.\n",
      "\n",
      "This is a copy of UCI ML housing dataset.\n",
      "http://archive.ics.uci.edu/ml/datasets/Housing\n",
      "\n",
      "\n",
      "This dataset was taken from the StatLib library which is maintained at Carnegie Mellon University.\n",
      "\n",
      "The Boston house-price data of Harrison, D. and Rubinfeld, D.L. 'Hedonic\n",
      "prices and the demand for clean air', J. Environ. Economics & Management,\n",
      "vol.5, 81-102, 1978.   Used in Belsley, Kuh & Welsch, 'Regression diagnostics\n",
      "...', Wiley, 1980.   N.B. Various transformations are used in the table on\n",
      "pages 244-261 of the latter.\n",
      "\n",
      "The Boston house-price data has been used in many machine learning papers that address regression\n",
      "problems.   \n",
      "     \n",
      "**References**\n",
      "\n",
      "   - Belsley, Kuh & Welsch, 'Regression diagnostics: Identifying Influential Data and Sources of Collinearity', Wiley, 1980. 244-261.\n",
      "   - Quinlan,R. (1993). Combining Instance-Based and Model-Based Learning. In Proceedings on the Tenth International Conference of Machine Learning, 236-243, University of Massachusetts, Amherst. Morgan Kaufmann.\n",
      "   - many more! (see http://archive.ics.uci.edu/ml/datasets/Housing)\n",
      "\n"
     ]
    }
   ],
   "source": [
    "print boston.DESCR"
   ]
  },
  {
   "cell_type": "code",
   "execution_count": 7,
   "metadata": {},
   "outputs": [
    {
     "data": {
      "text/plain": [
       "<matplotlib.text.Text at 0x1b84b400>"
      ]
     },
     "execution_count": 7,
     "metadata": {},
     "output_type": "execute_result"
    },
    {
     "data": {
      "image/png": "[encoded data removed]",
      "text/plain": [
       "<matplotlib.figure.Figure at 0x1b569fd0>"
      ]
     },
     "metadata": {},
     "output_type": "display_data"
    }
   ],
   "source": [
    "plt.hist(boston.target, bins = 50)\n",
    "\n",
    "plt.xlabel('Prices in $1000s')\n",
    "plt.ylabel('Number of houses')"
   ]
  },
  {
   "cell_type": "code",
   "execution_count": 8,
   "metadata": {},
   "outputs": [
    {
     "data": {
      "text/plain": [
       "<matplotlib.text.Text at 0x1bae4908>"
      ]
     },
     "execution_count": 8,
     "metadata": {},
     "output_type": "execute_result"
    },
    {
     "data": {
      "image/png": "[encoded data removed]",
      "text/plain": [
       "<matplotlib.figure.Figure at 0x1b5775f8>"
      ]
     },
     "metadata": {},
     "output_type": "display_data"
    }
   ],
   "source": [
    "plt.scatter(boston.data[:,5],boston.target)\n",
    "\n",
    "plt.ylabel('Price in $1000s')\n",
    "plt.xlabel('Number of rooms')"
   ]
  },
  {
   "cell_type": "code",
   "execution_count": 9,
   "metadata": {},
   "outputs": [
    {
     "data": {
      "text/html": [
       "<div>\n",
       "<table border=\"1\" class=\"dataframe\">\n",
       "  <thead>\n",
       "    <tr style=\"text-align: right;\">\n",
       "      <th></th>\n",
       "      <th>0</th>\n",
       "      <th>1</th>\n",
       "      <th>2</th>\n",
       "      <th>3</th>\n",
       "      <th>4</th>\n",
       "      <th>5</th>\n",
       "      <th>6</th>\n",
       "      <th>7</th>\n",
       "      <th>8</th>\n",
       "      <th>9</th>\n",
       "      <th>10</th>\n",
       "      <th>11</th>\n",
       "      <th>12</th>\n",
       "    </tr>\n",
       "  </thead>\n",
       "  <tbody>\n",
       "    <tr>\n",
       "      <th>0</th>\n",
       "      <td>0.00632</td>\n",
       "      <td>18</td>\n",
       "      <td>2.31</td>\n",
       "      <td>0</td>\n",
       "      <td>0.538</td>\n",
       "      <td>6.575</td>\n",
       "      <td>65.2</td>\n",
       "      <td>4.0900</td>\n",
       "      <td>1</td>\n",
       "      <td>296</td>\n",
       "      <td>15.3</td>\n",
       "      <td>396.90</td>\n",
       "      <td>4.98</td>\n",
       "    </tr>\n",
       "    <tr>\n",
       "      <th>1</th>\n",
       "      <td>0.02731</td>\n",
       "      <td>0</td>\n",
       "      <td>7.07</td>\n",
       "      <td>0</td>\n",
       "      <td>0.469</td>\n",
       "      <td>6.421</td>\n",
       "      <td>78.9</td>\n",
       "      <td>4.9671</td>\n",
       "      <td>2</td>\n",
       "      <td>242</td>\n",
       "      <td>17.8</td>\n",
       "      <td>396.90</td>\n",
       "      <td>9.14</td>\n",
       "    </tr>\n",
       "    <tr>\n",
       "      <th>2</th>\n",
       "      <td>0.02729</td>\n",
       "      <td>0</td>\n",
       "      <td>7.07</td>\n",
       "      <td>0</td>\n",
       "      <td>0.469</td>\n",
       "      <td>7.185</td>\n",
       "      <td>61.1</td>\n",
       "      <td>4.9671</td>\n",
       "      <td>2</td>\n",
       "      <td>242</td>\n",
       "      <td>17.8</td>\n",
       "      <td>392.83</td>\n",
       "      <td>4.03</td>\n",
       "    </tr>\n",
       "    <tr>\n",
       "      <th>3</th>\n",
       "      <td>0.03237</td>\n",
       "      <td>0</td>\n",
       "      <td>2.18</td>\n",
       "      <td>0</td>\n",
       "      <td>0.458</td>\n",
       "      <td>6.998</td>\n",
       "      <td>45.8</td>\n",
       "      <td>6.0622</td>\n",
       "      <td>3</td>\n",
       "      <td>222</td>\n",
       "      <td>18.7</td>\n",
       "      <td>394.63</td>\n",
       "      <td>2.94</td>\n",
       "    </tr>\n",
       "    <tr>\n",
       "      <th>4</th>\n",
       "      <td>0.06905</td>\n",
       "      <td>0</td>\n",
       "      <td>2.18</td>\n",
       "      <td>0</td>\n",
       "      <td>0.458</td>\n",
       "      <td>7.147</td>\n",
       "      <td>54.2</td>\n",
       "      <td>6.0622</td>\n",
       "      <td>3</td>\n",
       "      <td>222</td>\n",
       "      <td>18.7</td>\n",
       "      <td>396.90</td>\n",
       "      <td>5.33</td>\n",
       "    </tr>\n",
       "  </tbody>\n",
       "</table>\n",
       "</div>"
      ],
      "text/plain": [
       "        0   1     2   3      4      5     6       7   8    9     10      11  \\\n",
       "0  0.00632  18  2.31   0  0.538  6.575  65.2  4.0900   1  296  15.3  396.90   \n",
       "1  0.02731   0  7.07   0  0.469  6.421  78.9  4.9671   2  242  17.8  396.90   \n",
       "2  0.02729   0  7.07   0  0.469  7.185  61.1  4.9671   2  242  17.8  392.83   \n",
       "3  0.03237   0  2.18   0  0.458  6.998  45.8  6.0622   3  222  18.7  394.63   \n",
       "4  0.06905   0  2.18   0  0.458  7.147  54.2  6.0622   3  222  18.7  396.90   \n",
       "\n",
       "     12  \n",
       "0  4.98  \n",
       "1  9.14  \n",
       "2  4.03  \n",
       "3  2.94  \n",
       "4  5.33  "
      ]
     },
     "execution_count": 9,
     "metadata": {},
     "output_type": "execute_result"
    }
   ],
   "source": [
    "boston_df = DataFrame(boston.data)\n",
    "\n",
    "boston_df.head()"
   ]
  },
  {
   "cell_type": "code",
   "execution_count": 10,
   "metadata": {
    "collapsed": true
   },
   "outputs": [],
   "source": [
    "boston_df.columns = boston.feature_names"
   ]
  },
  {
   "cell_type": "code",
   "execution_count": 11,
   "metadata": {},
   "outputs": [
    {
     "data": {
      "text/html": [
       "<div>\n",
       "<table border=\"1\" class=\"dataframe\">\n",
       "  <thead>\n",
       "    <tr style=\"text-align: right;\">\n",
       "      <th></th>\n",
       "      <th>CRIM</th>\n",
       "      <th>ZN</th>\n",
       "      <th>INDUS</th>\n",
       "      <th>CHAS</th>\n",
       "      <th>NOX</th>\n",
       "      <th>RM</th>\n",
       "      <th>AGE</th>\n",
       "      <th>DIS</th>\n",
       "      <th>RAD</th>\n",
       "      <th>TAX</th>\n",
       "      <th>PTRATIO</th>\n",
       "      <th>B</th>\n",
       "      <th>LSTAT</th>\n",
       "    </tr>\n",
       "  </thead>\n",
       "  <tbody>\n",
       "    <tr>\n",
       "      <th>0</th>\n",
       "      <td>0.00632</td>\n",
       "      <td>18</td>\n",
       "      <td>2.31</td>\n",
       "      <td>0</td>\n",
       "      <td>0.538</td>\n",
       "      <td>6.575</td>\n",
       "      <td>65.2</td>\n",
       "      <td>4.0900</td>\n",
       "      <td>1</td>\n",
       "      <td>296</td>\n",
       "      <td>15.3</td>\n",
       "      <td>396.90</td>\n",
       "      <td>4.98</td>\n",
       "    </tr>\n",
       "    <tr>\n",
       "      <th>1</th>\n",
       "      <td>0.02731</td>\n",
       "      <td>0</td>\n",
       "      <td>7.07</td>\n",
       "      <td>0</td>\n",
       "      <td>0.469</td>\n",
       "      <td>6.421</td>\n",
       "      <td>78.9</td>\n",
       "      <td>4.9671</td>\n",
       "      <td>2</td>\n",
       "      <td>242</td>\n",
       "      <td>17.8</td>\n",
       "      <td>396.90</td>\n",
       "      <td>9.14</td>\n",
       "    </tr>\n",
       "    <tr>\n",
       "      <th>2</th>\n",
       "      <td>0.02729</td>\n",
       "      <td>0</td>\n",
       "      <td>7.07</td>\n",
       "      <td>0</td>\n",
       "      <td>0.469</td>\n",
       "      <td>7.185</td>\n",
       "      <td>61.1</td>\n",
       "      <td>4.9671</td>\n",
       "      <td>2</td>\n",
       "      <td>242</td>\n",
       "      <td>17.8</td>\n",
       "      <td>392.83</td>\n",
       "      <td>4.03</td>\n",
       "    </tr>\n",
       "    <tr>\n",
       "      <th>3</th>\n",
       "      <td>0.03237</td>\n",
       "      <td>0</td>\n",
       "      <td>2.18</td>\n",
       "      <td>0</td>\n",
       "      <td>0.458</td>\n",
       "      <td>6.998</td>\n",
       "      <td>45.8</td>\n",
       "      <td>6.0622</td>\n",
       "      <td>3</td>\n",
       "      <td>222</td>\n",
       "      <td>18.7</td>\n",
       "      <td>394.63</td>\n",
       "      <td>2.94</td>\n",
       "    </tr>\n",
       "    <tr>\n",
       "      <th>4</th>\n",
       "      <td>0.06905</td>\n",
       "      <td>0</td>\n",
       "      <td>2.18</td>\n",
       "      <td>0</td>\n",
       "      <td>0.458</td>\n",
       "      <td>7.147</td>\n",
       "      <td>54.2</td>\n",
       "      <td>6.0622</td>\n",
       "      <td>3</td>\n",
       "      <td>222</td>\n",
       "      <td>18.7</td>\n",
       "      <td>396.90</td>\n",
       "      <td>5.33</td>\n",
       "    </tr>\n",
       "  </tbody>\n",
       "</table>\n",
       "</div>"
      ],
      "text/plain": [
       "      CRIM  ZN  INDUS  CHAS    NOX     RM   AGE     DIS  RAD  TAX  PTRATIO  \\\n",
       "0  0.00632  18   2.31     0  0.538  6.575  65.2  4.0900    1  296     15.3   \n",
       "1  0.02731   0   7.07     0  0.469  6.421  78.9  4.9671    2  242     17.8   \n",
       "2  0.02729   0   7.07     0  0.469  7.185  61.1  4.9671    2  242     17.8   \n",
       "3  0.03237   0   2.18     0  0.458  6.998  45.8  6.0622    3  222     18.7   \n",
       "4  0.06905   0   2.18     0  0.458  7.147  54.2  6.0622    3  222     18.7   \n",
       "\n",
       "        B  LSTAT  \n",
       "0  396.90   4.98  \n",
       "1  396.90   9.14  \n",
       "2  392.83   4.03  \n",
       "3  394.63   2.94  \n",
       "4  396.90   5.33  "
      ]
     },
     "execution_count": 11,
     "metadata": {},
     "output_type": "execute_result"
    }
   ],
   "source": [
    "boston_df.head()"
   ]
  },
  {
   "cell_type": "code",
   "execution_count": 12,
   "metadata": {
    "collapsed": true
   },
   "outputs": [],
   "source": [
    "boston_df['Price'] = boston.target"
   ]
  },
  {
   "cell_type": "code",
   "execution_count": 13,
   "metadata": {},
   "outputs": [
    {
     "data": {
      "text/html": [
       "<div>\n",
       "<table border=\"1\" class=\"dataframe\">\n",
       "  <thead>\n",
       "    <tr style=\"text-align: right;\">\n",
       "      <th></th>\n",
       "      <th>CRIM</th>\n",
       "      <th>ZN</th>\n",
       "      <th>INDUS</th>\n",
       "      <th>CHAS</th>\n",
       "      <th>NOX</th>\n",
       "      <th>RM</th>\n",
       "      <th>AGE</th>\n",
       "      <th>DIS</th>\n",
       "      <th>RAD</th>\n",
       "      <th>TAX</th>\n",
       "      <th>PTRATIO</th>\n",
       "      <th>B</th>\n",
       "      <th>LSTAT</th>\n",
       "      <th>Price</th>\n",
       "    </tr>\n",
       "  </thead>\n",
       "  <tbody>\n",
       "    <tr>\n",
       "      <th>0</th>\n",
       "      <td>0.00632</td>\n",
       "      <td>18</td>\n",
       "      <td>2.31</td>\n",
       "      <td>0</td>\n",
       "      <td>0.538</td>\n",
       "      <td>6.575</td>\n",
       "      <td>65.2</td>\n",
       "      <td>4.0900</td>\n",
       "      <td>1</td>\n",
       "      <td>296</td>\n",
       "      <td>15.3</td>\n",
       "      <td>396.90</td>\n",
       "      <td>4.98</td>\n",
       "      <td>24.0</td>\n",
       "    </tr>\n",
       "    <tr>\n",
       "      <th>1</th>\n",
       "      <td>0.02731</td>\n",
       "      <td>0</td>\n",
       "      <td>7.07</td>\n",
       "      <td>0</td>\n",
       "      <td>0.469</td>\n",
       "      <td>6.421</td>\n",
       "      <td>78.9</td>\n",
       "      <td>4.9671</td>\n",
       "      <td>2</td>\n",
       "      <td>242</td>\n",
       "      <td>17.8</td>\n",
       "      <td>396.90</td>\n",
       "      <td>9.14</td>\n",
       "      <td>21.6</td>\n",
       "    </tr>\n",
       "    <tr>\n",
       "      <th>2</th>\n",
       "      <td>0.02729</td>\n",
       "      <td>0</td>\n",
       "      <td>7.07</td>\n",
       "      <td>0</td>\n",
       "      <td>0.469</td>\n",
       "      <td>7.185</td>\n",
       "      <td>61.1</td>\n",
       "      <td>4.9671</td>\n",
       "      <td>2</td>\n",
       "      <td>242</td>\n",
       "      <td>17.8</td>\n",
       "      <td>392.83</td>\n",
       "      <td>4.03</td>\n",
       "      <td>34.7</td>\n",
       "    </tr>\n",
       "    <tr>\n",
       "      <th>3</th>\n",
       "      <td>0.03237</td>\n",
       "      <td>0</td>\n",
       "      <td>2.18</td>\n",
       "      <td>0</td>\n",
       "      <td>0.458</td>\n",
       "      <td>6.998</td>\n",
       "      <td>45.8</td>\n",
       "      <td>6.0622</td>\n",
       "      <td>3</td>\n",
       "      <td>222</td>\n",
       "      <td>18.7</td>\n",
       "      <td>394.63</td>\n",
       "      <td>2.94</td>\n",
       "      <td>33.4</td>\n",
       "    </tr>\n",
       "    <tr>\n",
       "      <th>4</th>\n",
       "      <td>0.06905</td>\n",
       "      <td>0</td>\n",
       "      <td>2.18</td>\n",
       "      <td>0</td>\n",
       "      <td>0.458</td>\n",
       "      <td>7.147</td>\n",
       "      <td>54.2</td>\n",
       "      <td>6.0622</td>\n",
       "      <td>3</td>\n",
       "      <td>222</td>\n",
       "      <td>18.7</td>\n",
       "      <td>396.90</td>\n",
       "      <td>5.33</td>\n",
       "      <td>36.2</td>\n",
       "    </tr>\n",
       "  </tbody>\n",
       "</table>\n",
       "</div>"
      ],
      "text/plain": [
       "      CRIM  ZN  INDUS  CHAS    NOX     RM   AGE     DIS  RAD  TAX  PTRATIO  \\\n",
       "0  0.00632  18   2.31     0  0.538  6.575  65.2  4.0900    1  296     15.3   \n",
       "1  0.02731   0   7.07     0  0.469  6.421  78.9  4.9671    2  242     17.8   \n",
       "2  0.02729   0   7.07     0  0.469  7.185  61.1  4.9671    2  242     17.8   \n",
       "3  0.03237   0   2.18     0  0.458  6.998  45.8  6.0622    3  222     18.7   \n",
       "4  0.06905   0   2.18     0  0.458  7.147  54.2  6.0622    3  222     18.7   \n",
       "\n",
       "        B  LSTAT  Price  \n",
       "0  396.90   4.98   24.0  \n",
       "1  396.90   9.14   21.6  \n",
       "2  392.83   4.03   34.7  \n",
       "3  394.63   2.94   33.4  \n",
       "4  396.90   5.33   36.2  "
      ]
     },
     "execution_count": 13,
     "metadata": {},
     "output_type": "execute_result"
    }
   ],
   "source": [
    "boston_df.head()"
   ]
  },
  {
   "cell_type": "code",
   "execution_count": 14,
   "metadata": {},
   "outputs": [
    {
     "data": {
      "text/plain": [
       "<seaborn.axisgrid.FacetGrid at 0x1bb43390>"
      ]
     },
     "execution_count": 14,
     "metadata": {},
     "output_type": "execute_result"
    },
    {
     "data": {
      "image/png": "[encoded data removed]",
      "text/plain": [
       "<matplotlib.figure.Figure at 0x1bb43780>"
      ]
     },
     "metadata": {},
     "output_type": "display_data"
    }
   ],
   "source": [
    "sns.lmplot('RM', 'Price', data=boston_df)"
   ]
  },
  {
   "cell_type": "code",
   "execution_count": 15,
   "metadata": {},
   "outputs": [
    {
     "data": {
      "image/png": "[encoded data removed]",
      "text/plain": [
       "<IPython.core.display.Image object>"
      ]
     },
     "execution_count": 15,
     "metadata": {},
     "output_type": "execute_result"
    }
   ],
   "source": [
    "# Quick display of image form wikipedia\n",
    "from IPython.display import Image\n",
    "url = 'http://upload.wikimedia.org/wikipedia/commons/thumb/b/b0/Linear_least_squares_example2.svg/220px-Linear_least_squares_example2.svg.png'\n",
    "Image(url)"
   ]
  },
  {
   "cell_type": "code",
   "execution_count": 16,
   "metadata": {
    "collapsed": true
   },
   "outputs": [],
   "source": [
    "X = boston_df.RM"
   ]
  },
  {
   "cell_type": "code",
   "execution_count": 19,
   "metadata": {},
   "outputs": [],
   "source": [
    "X = np.vstack(boston_df.RM)"
   ]
  },
  {
   "cell_type": "code",
   "execution_count": 20,
   "metadata": {},
   "outputs": [
    {
     "data": {
      "text/plain": [
       "(506L, 1L)"
      ]
     },
     "execution_count": 20,
     "metadata": {},
     "output_type": "execute_result"
    }
   ],
   "source": [
    "X.shape"
   ]
  },
  {
   "cell_type": "code",
   "execution_count": 21,
   "metadata": {
    "collapsed": true
   },
   "outputs": [],
   "source": [
    "Y = boston_df.Price"
   ]
  },
  {
   "cell_type": "code",
   "execution_count": 22,
   "metadata": {},
   "outputs": [
    {
     "data": {
      "text/plain": [
       "(506L,)"
      ]
     },
     "execution_count": 22,
     "metadata": {},
     "output_type": "execute_result"
    }
   ],
   "source": [
    "Y.shape"
   ]
  },
  {
   "cell_type": "code",
   "execution_count": 23,
   "metadata": {},
   "outputs": [
    {
     "data": {
      "text/plain": [
       "array([[ 6.575],\n",
       "       [ 6.421],\n",
       "       [ 7.185],\n",
       "       [ 6.998],\n",
       "       [ 7.147],\n",
       "       [ 6.43 ],\n",
       "       [ 6.012],\n",
       "       [ 6.172],\n",
       "       [ 5.631],\n",
       "       [ 6.004],\n",
       "       [ 6.377],\n",
       "       [ 6.009],\n",
       "       [ 5.889],\n",
       "       [ 5.949],\n",
       "       [ 6.096],\n",
       "       [ 5.834],\n",
       "       [ 5.935],\n",
       "       [ 5.99 ],\n",
       "       [ 5.456],\n",
       "       [ 5.727],\n",
       "       [ 5.57 ],\n",
       "       [ 5.965],\n",
       "       [ 6.142],\n",
       "       [ 5.813],\n",
       "       [ 5.924],\n",
       "       [ 5.599],\n",
       "       [ 5.813],\n",
       "       [ 6.047],\n",
       "       [ 6.495],\n",
       "       [ 6.674],\n",
       "       [ 5.713],\n",
       "       [ 6.072],\n",
       "       [ 5.95 ],\n",
       "       [ 5.701],\n",
       "       [ 6.096],\n",
       "       [ 5.933],\n",
       "       [ 5.841],\n",
       "       [ 5.85 ],\n",
       "       [ 5.966],\n",
       "       [ 6.595],\n",
       "       [ 7.024],\n",
       "       [ 6.77 ],\n",
       "       [ 6.169],\n",
       "       [ 6.211],\n",
       "       [ 6.069],\n",
       "       [ 5.682],\n",
       "       [ 5.786],\n",
       "       [ 6.03 ],\n",
       "       [ 5.399],\n",
       "       [ 5.602],\n",
       "       [ 5.963],\n",
       "       [ 6.115],\n",
       "       [ 6.511],\n",
       "       [ 5.998],\n",
       "       [ 5.888],\n",
       "       [ 7.249],\n",
       "       [ 6.383],\n",
       "       [ 6.816],\n",
       "       [ 6.145],\n",
       "       [ 5.927],\n",
       "       [ 5.741],\n",
       "       [ 5.966],\n",
       "       [ 6.456],\n",
       "       [ 6.762],\n",
       "       [ 7.104],\n",
       "       [ 6.29 ],\n",
       "       [ 5.787],\n",
       "       [ 5.878],\n",
       "       [ 5.594],\n",
       "       [ 5.885],\n",
       "       [ 6.417],\n",
       "       [ 5.961],\n",
       "       [ 6.065],\n",
       "       [ 6.245],\n",
       "       [ 6.273],\n",
       "       [ 6.286],\n",
       "       [ 6.279],\n",
       "       [ 6.14 ],\n",
       "       [ 6.232],\n",
       "       [ 5.874],\n",
       "       [ 6.727],\n",
       "       [ 6.619],\n",
       "       [ 6.302],\n",
       "       [ 6.167],\n",
       "       [ 6.389],\n",
       "       [ 6.63 ],\n",
       "       [ 6.015],\n",
       "       [ 6.121],\n",
       "       [ 7.007],\n",
       "       [ 7.079],\n",
       "       [ 6.417],\n",
       "       [ 6.405],\n",
       "       [ 6.442],\n",
       "       [ 6.211],\n",
       "       [ 6.249],\n",
       "       [ 6.625],\n",
       "       [ 6.163],\n",
       "       [ 8.069],\n",
       "       [ 7.82 ],\n",
       "       [ 7.416],\n",
       "       [ 6.727],\n",
       "       [ 6.781],\n",
       "       [ 6.405],\n",
       "       [ 6.137],\n",
       "       [ 6.167],\n",
       "       [ 5.851],\n",
       "       [ 5.836],\n",
       "       [ 6.127],\n",
       "       [ 6.474],\n",
       "       [ 6.229],\n",
       "       [ 6.195],\n",
       "       [ 6.715],\n",
       "       [ 5.913],\n",
       "       [ 6.092],\n",
       "       [ 6.254],\n",
       "       [ 5.928],\n",
       "       [ 6.176],\n",
       "       [ 6.021],\n",
       "       [ 5.872],\n",
       "       [ 5.731],\n",
       "       [ 5.87 ],\n",
       "       [ 6.004],\n",
       "       [ 5.961],\n",
       "       [ 5.856],\n",
       "       [ 5.879],\n",
       "       [ 5.986],\n",
       "       [ 5.613],\n",
       "       [ 5.693],\n",
       "       [ 6.431],\n",
       "       [ 5.637],\n",
       "       [ 6.458],\n",
       "       [ 6.326],\n",
       "       [ 6.372],\n",
       "       [ 5.822],\n",
       "       [ 5.757],\n",
       "       [ 6.335],\n",
       "       [ 5.942],\n",
       "       [ 6.454],\n",
       "       [ 5.857],\n",
       "       [ 6.151],\n",
       "       [ 6.174],\n",
       "       [ 5.019],\n",
       "       [ 5.403],\n",
       "       [ 5.468],\n",
       "       [ 4.903],\n",
       "       [ 6.13 ],\n",
       "       [ 5.628],\n",
       "       [ 4.926],\n",
       "       [ 5.186],\n",
       "       [ 5.597],\n",
       "       [ 6.122],\n",
       "       [ 5.404],\n",
       "       [ 5.012],\n",
       "       [ 5.709],\n",
       "       [ 6.129],\n",
       "       [ 6.152],\n",
       "       [ 5.272],\n",
       "       [ 6.943],\n",
       "       [ 6.066],\n",
       "       [ 6.51 ],\n",
       "       [ 6.25 ],\n",
       "       [ 7.489],\n",
       "       [ 7.802],\n",
       "       [ 8.375],\n",
       "       [ 5.854],\n",
       "       [ 6.101],\n",
       "       [ 7.929],\n",
       "       [ 5.877],\n",
       "       [ 6.319],\n",
       "       [ 6.402],\n",
       "       [ 5.875],\n",
       "       [ 5.88 ],\n",
       "       [ 5.572],\n",
       "       [ 6.416],\n",
       "       [ 5.859],\n",
       "       [ 6.546],\n",
       "       [ 6.02 ],\n",
       "       [ 6.315],\n",
       "       [ 6.86 ],\n",
       "       [ 6.98 ],\n",
       "       [ 7.765],\n",
       "       [ 6.144],\n",
       "       [ 7.155],\n",
       "       [ 6.563],\n",
       "       [ 5.604],\n",
       "       [ 6.153],\n",
       "       [ 7.831],\n",
       "       [ 6.782],\n",
       "       [ 6.556],\n",
       "       [ 7.185],\n",
       "       [ 6.951],\n",
       "       [ 6.739],\n",
       "       [ 7.178],\n",
       "       [ 6.8  ],\n",
       "       [ 6.604],\n",
       "       [ 7.875],\n",
       "       [ 7.287],\n",
       "       [ 7.107],\n",
       "       [ 7.274],\n",
       "       [ 6.975],\n",
       "       [ 7.135],\n",
       "       [ 6.162],\n",
       "       [ 7.61 ],\n",
       "       [ 7.853],\n",
       "       [ 8.034],\n",
       "       [ 5.891],\n",
       "       [ 6.326],\n",
       "       [ 5.783],\n",
       "       [ 6.064],\n",
       "       [ 5.344],\n",
       "       [ 5.96 ],\n",
       "       [ 5.404],\n",
       "       [ 5.807],\n",
       "       [ 6.375],\n",
       "       [ 5.412],\n",
       "       [ 6.182],\n",
       "       [ 5.888],\n",
       "       [ 6.642],\n",
       "       [ 5.951],\n",
       "       [ 6.373],\n",
       "       [ 6.951],\n",
       "       [ 6.164],\n",
       "       [ 6.879],\n",
       "       [ 6.618],\n",
       "       [ 8.266],\n",
       "       [ 8.725],\n",
       "       [ 8.04 ],\n",
       "       [ 7.163],\n",
       "       [ 7.686],\n",
       "       [ 6.552],\n",
       "       [ 5.981],\n",
       "       [ 7.412],\n",
       "       [ 8.337],\n",
       "       [ 8.247],\n",
       "       [ 6.726],\n",
       "       [ 6.086],\n",
       "       [ 6.631],\n",
       "       [ 7.358],\n",
       "       [ 6.481],\n",
       "       [ 6.606],\n",
       "       [ 6.897],\n",
       "       [ 6.095],\n",
       "       [ 6.358],\n",
       "       [ 6.393],\n",
       "       [ 5.593],\n",
       "       [ 5.605],\n",
       "       [ 6.108],\n",
       "       [ 6.226],\n",
       "       [ 6.433],\n",
       "       [ 6.718],\n",
       "       [ 6.487],\n",
       "       [ 6.438],\n",
       "       [ 6.957],\n",
       "       [ 8.259],\n",
       "       [ 6.108],\n",
       "       [ 5.876],\n",
       "       [ 7.454],\n",
       "       [ 8.704],\n",
       "       [ 7.333],\n",
       "       [ 6.842],\n",
       "       [ 7.203],\n",
       "       [ 7.52 ],\n",
       "       [ 8.398],\n",
       "       [ 7.327],\n",
       "       [ 7.206],\n",
       "       [ 5.56 ],\n",
       "       [ 7.014],\n",
       "       [ 8.297],\n",
       "       [ 7.47 ],\n",
       "       [ 5.92 ],\n",
       "       [ 5.856],\n",
       "       [ 6.24 ],\n",
       "       [ 6.538],\n",
       "       [ 7.691],\n",
       "       [ 6.758],\n",
       "       [ 6.854],\n",
       "       [ 7.267],\n",
       "       [ 6.826],\n",
       "       [ 6.482],\n",
       "       [ 6.812],\n",
       "       [ 7.82 ],\n",
       "       [ 6.968],\n",
       "       [ 7.645],\n",
       "       [ 7.923],\n",
       "       [ 7.088],\n",
       "       [ 6.453],\n",
       "       [ 6.23 ],\n",
       "       [ 6.209],\n",
       "       [ 6.315],\n",
       "       [ 6.565],\n",
       "       [ 6.861],\n",
       "       [ 7.148],\n",
       "       [ 6.63 ],\n",
       "       [ 6.127],\n",
       "       [ 6.009],\n",
       "       [ 6.678],\n",
       "       [ 6.549],\n",
       "       [ 5.79 ],\n",
       "       [ 6.345],\n",
       "       [ 7.041],\n",
       "       [ 6.871],\n",
       "       [ 6.59 ],\n",
       "       [ 6.495],\n",
       "       [ 6.982],\n",
       "       [ 7.236],\n",
       "       [ 6.616],\n",
       "       [ 7.42 ],\n",
       "       [ 6.849],\n",
       "       [ 6.635],\n",
       "       [ 5.972],\n",
       "       [ 4.973],\n",
       "       [ 6.122],\n",
       "       [ 6.023],\n",
       "       [ 6.266],\n",
       "       [ 6.567],\n",
       "       [ 5.705],\n",
       "       [ 5.914],\n",
       "       [ 5.782],\n",
       "       [ 6.382],\n",
       "       [ 6.113],\n",
       "       [ 6.426],\n",
       "       [ 6.376],\n",
       "       [ 6.041],\n",
       "       [ 5.708],\n",
       "       [ 6.415],\n",
       "       [ 6.431],\n",
       "       [ 6.312],\n",
       "       [ 6.083],\n",
       "       [ 5.868],\n",
       "       [ 6.333],\n",
       "       [ 6.144],\n",
       "       [ 5.706],\n",
       "       [ 6.031],\n",
       "       [ 6.316],\n",
       "       [ 6.31 ],\n",
       "       [ 6.037],\n",
       "       [ 5.869],\n",
       "       [ 5.895],\n",
       "       [ 6.059],\n",
       "       [ 5.985],\n",
       "       [ 5.968],\n",
       "       [ 7.241],\n",
       "       [ 6.54 ],\n",
       "       [ 6.696],\n",
       "       [ 6.874],\n",
       "       [ 6.014],\n",
       "       [ 5.898],\n",
       "       [ 6.516],\n",
       "       [ 6.635],\n",
       "       [ 6.939],\n",
       "       [ 6.49 ],\n",
       "       [ 6.579],\n",
       "       [ 5.884],\n",
       "       [ 6.728],\n",
       "       [ 5.663],\n",
       "       [ 5.936],\n",
       "       [ 6.212],\n",
       "       [ 6.395],\n",
       "       [ 6.127],\n",
       "       [ 6.112],\n",
       "       [ 6.398],\n",
       "       [ 6.251],\n",
       "       [ 5.362],\n",
       "       [ 5.803],\n",
       "       [ 8.78 ],\n",
       "       [ 3.561],\n",
       "       [ 4.963],\n",
       "       [ 3.863],\n",
       "       [ 4.97 ],\n",
       "       [ 6.683],\n",
       "       [ 7.016],\n",
       "       [ 6.216],\n",
       "       [ 5.875],\n",
       "       [ 4.906],\n",
       "       [ 4.138],\n",
       "       [ 7.313],\n",
       "       [ 6.649],\n",
       "       [ 6.794],\n",
       "       [ 6.38 ],\n",
       "       [ 6.223],\n",
       "       [ 6.968],\n",
       "       [ 6.545],\n",
       "       [ 5.536],\n",
       "       [ 5.52 ],\n",
       "       [ 4.368],\n",
       "       [ 5.277],\n",
       "       [ 4.652],\n",
       "       [ 5.   ],\n",
       "       [ 4.88 ],\n",
       "       [ 5.39 ],\n",
       "       [ 5.713],\n",
       "       [ 6.051],\n",
       "       [ 5.036],\n",
       "       [ 6.193],\n",
       "       [ 5.887],\n",
       "       [ 6.471],\n",
       "       [ 6.405],\n",
       "       [ 5.747],\n",
       "       [ 5.453],\n",
       "       [ 5.852],\n",
       "       [ 5.987],\n",
       "       [ 6.343],\n",
       "       [ 6.404],\n",
       "       [ 5.349],\n",
       "       [ 5.531],\n",
       "       [ 5.683],\n",
       "       [ 4.138],\n",
       "       [ 5.608],\n",
       "       [ 5.617],\n",
       "       [ 6.852],\n",
       "       [ 5.757],\n",
       "       [ 6.657],\n",
       "       [ 4.628],\n",
       "       [ 5.155],\n",
       "       [ 4.519],\n",
       "       [ 6.434],\n",
       "       [ 6.782],\n",
       "       [ 5.304],\n",
       "       [ 5.957],\n",
       "       [ 6.824],\n",
       "       [ 6.411],\n",
       "       [ 6.006],\n",
       "       [ 5.648],\n",
       "       [ 6.103],\n",
       "       [ 5.565],\n",
       "       [ 5.896],\n",
       "       [ 5.837],\n",
       "       [ 6.202],\n",
       "       [ 6.193],\n",
       "       [ 6.38 ],\n",
       "       [ 6.348],\n",
       "       [ 6.833],\n",
       "       [ 6.425],\n",
       "       [ 6.436],\n",
       "       [ 6.208],\n",
       "       [ 6.629],\n",
       "       [ 6.461],\n",
       "       [ 6.152],\n",
       "       [ 5.935],\n",
       "       [ 5.627],\n",
       "       [ 5.818],\n",
       "       [ 6.406],\n",
       "       [ 6.219],\n",
       "       [ 6.485],\n",
       "       [ 5.854],\n",
       "       [ 6.459],\n",
       "       [ 6.341],\n",
       "       [ 6.251],\n",
       "       [ 6.185],\n",
       "       [ 6.417],\n",
       "       [ 6.749],\n",
       "       [ 6.655],\n",
       "       [ 6.297],\n",
       "       [ 7.393],\n",
       "       [ 6.728],\n",
       "       [ 6.525],\n",
       "       [ 5.976],\n",
       "       [ 5.936],\n",
       "       [ 6.301],\n",
       "       [ 6.081],\n",
       "       [ 6.701],\n",
       "       [ 6.376],\n",
       "       [ 6.317],\n",
       "       [ 6.513],\n",
       "       [ 6.209],\n",
       "       [ 5.759],\n",
       "       [ 5.952],\n",
       "       [ 6.003],\n",
       "       [ 5.926],\n",
       "       [ 5.713],\n",
       "       [ 6.167],\n",
       "       [ 6.229],\n",
       "       [ 6.437],\n",
       "       [ 6.98 ],\n",
       "       [ 5.427],\n",
       "       [ 6.162],\n",
       "       [ 6.484],\n",
       "       [ 5.304],\n",
       "       [ 6.185],\n",
       "       [ 6.229],\n",
       "       [ 6.242],\n",
       "       [ 6.75 ],\n",
       "       [ 7.061],\n",
       "       [ 5.762],\n",
       "       [ 5.871],\n",
       "       [ 6.312],\n",
       "       [ 6.114],\n",
       "       [ 5.905],\n",
       "       [ 5.454],\n",
       "       [ 5.414],\n",
       "       [ 5.093],\n",
       "       [ 5.983],\n",
       "       [ 5.983],\n",
       "       [ 5.707],\n",
       "       [ 5.926],\n",
       "       [ 5.67 ],\n",
       "       [ 5.39 ],\n",
       "       [ 5.794],\n",
       "       [ 6.019],\n",
       "       [ 5.569],\n",
       "       [ 6.027],\n",
       "       [ 6.593],\n",
       "       [ 6.12 ],\n",
       "       [ 6.976],\n",
       "       [ 6.794],\n",
       "       [ 6.03 ]])"
      ]
     },
     "execution_count": 23,
     "metadata": {},
     "output_type": "execute_result"
    }
   ],
   "source": [
    "X"
   ]
  },
  {
   "cell_type": "code",
   "execution_count": 24,
   "metadata": {
    "collapsed": true
   },
   "outputs": [],
   "source": [
    "# [X 1]\n",
    "\n",
    "X = np.array([ [value,1] for value in X])\n"
   ]
  },
  {
   "cell_type": "code",
   "execution_count": 25,
   "metadata": {},
   "outputs": [
    {
     "data": {
      "text/plain": [
       "array([[array([ 6.575]), 1],\n",
       "       [array([ 6.421]), 1],\n",
       "       [array([ 7.185]), 1],\n",
       "       ..., \n",
       "       [array([ 6.976]), 1],\n",
       "       [array([ 6.794]), 1],\n",
       "       [array([ 6.03]), 1]], dtype=object)"
      ]
     },
     "execution_count": 25,
     "metadata": {},
     "output_type": "execute_result"
    }
   ],
   "source": [
    "X"
   ]
  },
  {
   "cell_type": "code",
   "execution_count": 26,
   "metadata": {
    "collapsed": true
   },
   "outputs": [],
   "source": [
    "m , b = np.linalg.lstsq(X,Y)[0]"
   ]
  },
  {
   "cell_type": "code",
   "execution_count": 27,
   "metadata": {},
   "outputs": [
    {
     "data": {
      "text/plain": [
       "9.1021089811803098"
      ]
     },
     "execution_count": 27,
     "metadata": {},
     "output_type": "execute_result"
    }
   ],
   "source": [
    "m"
   ]
  },
  {
   "cell_type": "code",
   "execution_count": 28,
   "metadata": {},
   "outputs": [
    {
     "data": {
      "text/plain": [
       "-34.670620776438568"
      ]
     },
     "execution_count": 28,
     "metadata": {},
     "output_type": "execute_result"
    }
   ],
   "source": [
    "b"
   ]
  },
  {
   "cell_type": "code",
   "execution_count": 30,
   "metadata": {},
   "outputs": [
    {
     "data": {
      "text/plain": [
       "[<matplotlib.lines.Line2D at 0x1c2f1cf8>]"
      ]
     },
     "execution_count": 30,
     "metadata": {},
     "output_type": "execute_result"
    },
    {
     "data": {
      "image/png": "[encoded data removed]",
      "text/plain": [
       "<matplotlib.figure.Figure at 0x1bdc3240>"
      ]
     },
     "metadata": {},
     "output_type": "display_data"
    }
   ],
   "source": [
    "plt.plot(boston_df.RM, boston_df.Price, 'o')\n",
    "\n",
    "x = boston_df.RM\n",
    "\n",
    "plt.plot(x, m*x + b, 'r', label='Best Fir Line')"
   ]
  },
  {
   "cell_type": "markdown",
   "metadata": {},
   "source": [
    "# 3rd video"
   ]
  },
  {
   "cell_type": "code",
   "execution_count": 32,
   "metadata": {
    "collapsed": true
   },
   "outputs": [],
   "source": [
    "result = np.linalg.lstsq(X,Y)"
   ]
  },
  {
   "cell_type": "code",
   "execution_count": 33,
   "metadata": {},
   "outputs": [
    {
     "data": {
      "text/plain": [
       "(array([  9.10210898, -34.67062078]),\n",
       " array([ 22061.87919621]),\n",
       " 2,\n",
       " array([ 143.99484122,    2.46656609]))"
      ]
     },
     "execution_count": 33,
     "metadata": {},
     "output_type": "execute_result"
    }
   ],
   "source": [
    "result"
   ]
  },
  {
   "cell_type": "code",
   "execution_count": 34,
   "metadata": {},
   "outputs": [
    {
     "name": "stdout",
     "output_type": "stream",
     "text": [
      "The root mean square error was 6.60\n"
     ]
    }
   ],
   "source": [
    "error_total = result[1]\n",
    "\n",
    "rmse = np.sqrt(error_total/len(X))\n",
    "\n",
    "print 'The root mean square error was %.2f' %rmse"
   ]
  },
  {
   "cell_type": "code",
   "execution_count": 35,
   "metadata": {},
   "outputs": [
    {
     "data": {
      "text/plain": [
       "506"
      ]
     },
     "execution_count": 35,
     "metadata": {},
     "output_type": "execute_result"
    }
   ],
   "source": [
    "len(X)"
   ]
  },
  {
   "cell_type": "code",
   "execution_count": 36,
   "metadata": {
    "collapsed": true
   },
   "outputs": [],
   "source": [
    "import sklearn\n",
    "from sklearn.linear_model import LinearRegression"
   ]
  },
  {
   "cell_type": "code",
   "execution_count": 37,
   "metadata": {
    "collapsed": true
   },
   "outputs": [],
   "source": [
    "lreg = LinearRegression()"
   ]
  },
  {
   "cell_type": "code",
   "execution_count": 38,
   "metadata": {},
   "outputs": [
    {
     "data": {
      "text/plain": [
       "LinearRegression(copy_X=True, fit_intercept=True, n_jobs=1, normalize=False)"
      ]
     },
     "execution_count": 38,
     "metadata": {},
     "output_type": "execute_result"
    }
   ],
   "source": [
    "lreg"
   ]
  },
  {
   "cell_type": "code",
   "execution_count": 39,
   "metadata": {
    "collapsed": true
   },
   "outputs": [],
   "source": [
    "X_multi = boston_df.drop('Price',1)\n",
    "\n",
    "Y_target = boston_df.Price"
   ]
  },
  {
   "cell_type": "code",
   "execution_count": 40,
   "metadata": {},
   "outputs": [
    {
     "data": {
      "text/plain": [
       "LinearRegression(copy_X=True, fit_intercept=True, n_jobs=1, normalize=False)"
      ]
     },
     "execution_count": 40,
     "metadata": {},
     "output_type": "execute_result"
    }
   ],
   "source": [
    "lreg.fit(X_multi, Y_target)"
   ]
  },
  {
   "cell_type": "code",
   "execution_count": 41,
   "metadata": {},
   "outputs": [
    {
     "name": "stdout",
     "output_type": "stream",
     "text": [
      "The estimated intercept coefficient is 36.49\n",
      "The number of coefficients used was 13\n"
     ]
    }
   ],
   "source": [
    "print 'The estimated intercept coefficient is %.2f' %lreg.intercept_\n",
    "\n",
    "print 'The number of coefficients used was %d' %len(lreg.coef_)"
   ]
  },
  {
   "cell_type": "code",
   "execution_count": 42,
   "metadata": {},
   "outputs": [
    {
     "data": {
      "text/plain": [
       "LinearRegression(copy_X=True, fit_intercept=True, n_jobs=1, normalize=False)"
      ]
     },
     "execution_count": 42,
     "metadata": {},
     "output_type": "execute_result"
    }
   ],
   "source": [
    "lreg"
   ]
  },
  {
   "cell_type": "code",
   "execution_count": 43,
   "metadata": {},
   "outputs": [
    {
     "data": {
      "text/html": [
       "<div>\n",
       "<table border=\"1\" class=\"dataframe\">\n",
       "  <thead>\n",
       "    <tr style=\"text-align: right;\">\n",
       "      <th></th>\n",
       "      <th>Features</th>\n",
       "      <th>Coefficient Estimate</th>\n",
       "    </tr>\n",
       "  </thead>\n",
       "  <tbody>\n",
       "    <tr>\n",
       "      <th>0</th>\n",
       "      <td>CRIM</td>\n",
       "      <td>-0.107171</td>\n",
       "    </tr>\n",
       "    <tr>\n",
       "      <th>1</th>\n",
       "      <td>ZN</td>\n",
       "      <td>0.046395</td>\n",
       "    </tr>\n",
       "    <tr>\n",
       "      <th>2</th>\n",
       "      <td>INDUS</td>\n",
       "      <td>0.020860</td>\n",
       "    </tr>\n",
       "    <tr>\n",
       "      <th>3</th>\n",
       "      <td>CHAS</td>\n",
       "      <td>2.688561</td>\n",
       "    </tr>\n",
       "    <tr>\n",
       "      <th>4</th>\n",
       "      <td>NOX</td>\n",
       "      <td>-17.795759</td>\n",
       "    </tr>\n",
       "    <tr>\n",
       "      <th>5</th>\n",
       "      <td>RM</td>\n",
       "      <td>3.804752</td>\n",
       "    </tr>\n",
       "    <tr>\n",
       "      <th>6</th>\n",
       "      <td>AGE</td>\n",
       "      <td>0.000751</td>\n",
       "    </tr>\n",
       "    <tr>\n",
       "      <th>7</th>\n",
       "      <td>DIS</td>\n",
       "      <td>-1.475759</td>\n",
       "    </tr>\n",
       "    <tr>\n",
       "      <th>8</th>\n",
       "      <td>RAD</td>\n",
       "      <td>0.305655</td>\n",
       "    </tr>\n",
       "    <tr>\n",
       "      <th>9</th>\n",
       "      <td>TAX</td>\n",
       "      <td>-0.012329</td>\n",
       "    </tr>\n",
       "    <tr>\n",
       "      <th>10</th>\n",
       "      <td>PTRATIO</td>\n",
       "      <td>-0.953464</td>\n",
       "    </tr>\n",
       "    <tr>\n",
       "      <th>11</th>\n",
       "      <td>B</td>\n",
       "      <td>0.009393</td>\n",
       "    </tr>\n",
       "    <tr>\n",
       "      <th>12</th>\n",
       "      <td>LSTAT</td>\n",
       "      <td>-0.525467</td>\n",
       "    </tr>\n",
       "    <tr>\n",
       "      <th>13</th>\n",
       "      <td>Price</td>\n",
       "      <td>NaN</td>\n",
       "    </tr>\n",
       "  </tbody>\n",
       "</table>\n",
       "</div>"
      ],
      "text/plain": [
       "   Features  Coefficient Estimate\n",
       "0      CRIM             -0.107171\n",
       "1        ZN              0.046395\n",
       "2     INDUS              0.020860\n",
       "3      CHAS              2.688561\n",
       "4       NOX            -17.795759\n",
       "5        RM              3.804752\n",
       "6       AGE              0.000751\n",
       "7       DIS             -1.475759\n",
       "8       RAD              0.305655\n",
       "9       TAX             -0.012329\n",
       "10  PTRATIO             -0.953464\n",
       "11        B              0.009393\n",
       "12    LSTAT             -0.525467\n",
       "13    Price                   NaN"
      ]
     },
     "execution_count": 43,
     "metadata": {},
     "output_type": "execute_result"
    }
   ],
   "source": [
    "coeff_df =  DataFrame(boston_df.columns)\n",
    "coeff_df.columns = ['Features']\n",
    "\n",
    "coeff_df['Coefficient Estimate'] = Series(lreg.coef_)\n",
    "\n",
    "coeff_df"
   ]
  },
  {
   "cell_type": "markdown",
   "metadata": {},
   "source": [
    "# Video 4"
   ]
  },
  {
   "cell_type": "code",
   "execution_count": 44,
   "metadata": {
    "collapsed": true
   },
   "outputs": [],
   "source": [
    "X_train, X_test, Y_train, Y_test = sklearn.cross_validation.train_test_split(X, boston_df.Price)"
   ]
  },
  {
   "cell_type": "code",
   "execution_count": 45,
   "metadata": {},
   "outputs": [
    {
     "name": "stdout",
     "output_type": "stream",
     "text": [
      "(379L, 2L) (127L, 2L) (379L,) (127L,)\n"
     ]
    }
   ],
   "source": [
    "print X_train.shape, X_test.shape, Y_train.shape, Y_test.shape"
   ]
  },
  {
   "cell_type": "code",
   "execution_count": 46,
   "metadata": {},
   "outputs": [
    {
     "data": {
      "text/plain": [
       "LinearRegression(copy_X=True, fit_intercept=True, n_jobs=1, normalize=False)"
      ]
     },
     "execution_count": 46,
     "metadata": {},
     "output_type": "execute_result"
    }
   ],
   "source": [
    "lreg = LinearRegression()\n",
    "\n",
    "lreg.fit(X_train, Y_train)"
   ]
  },
  {
   "cell_type": "code",
   "execution_count": 47,
   "metadata": {
    "collapsed": true
   },
   "outputs": [],
   "source": [
    "pred_train = lreg.predict(X_train)\n",
    "pred_test = lreg.predict(X_test)"
   ]
  },
  {
   "cell_type": "code",
   "execution_count": 48,
   "metadata": {},
   "outputs": [
    {
     "name": "stdout",
     "output_type": "stream",
     "text": [
      "Fit a model X_train, and calulate the MSE with Y_train : 46.15\n",
      "Fit a model X_train, and calculate the MSE with X_test and Y_test : 36.13\n"
     ]
    }
   ],
   "source": [
    "print \"Fit a model X_train, and calulate the MSE with Y_train : %.2f\" %np.mean((Y_train - pred_train)**2)\n",
    "\n",
    "print \"Fit a model X_train, and calculate the MSE with X_test and Y_test : %.2f\" % np.mean((Y_test - pred_test)**2)"
   ]
  },
  {
   "cell_type": "code",
   "execution_count": 59,
   "metadata": {},
   "outputs": [
    {
     "data": {
      "text/plain": [
       "<matplotlib.text.Text at 0x1ee12e80>"
      ]
     },
     "execution_count": 59,
     "metadata": {},
     "output_type": "execute_result"
    },
    {
     "data": {
      "image/png": "[encoded data removed]",
      "text/plain": [
       "<matplotlib.figure.Figure at 0x1ed72240>"
      ]
     },
     "metadata": {},
     "output_type": "display_data"
    }
   ],
   "source": [
    "train = plt.scatter(pred_train, (pred_train - Y_train), c='b', alpha = 0.5)\n",
    "\n",
    "test = plt.scatter(pred_test, (pred_test - Y_test), c= 'r', alpha = 0.5)\n",
    "\n",
    "plt.hlines(y=0, xmin = -10, xmax = 40)\n",
    "\n",
    "plt.legend((train,test), ('Training', 'Test'), loc = 'lower left')\n",
    "\n",
    "plt.title('Residual plots')\n",
    "\n"
   ]
  },
  {
   "cell_type": "code",
   "execution_count": null,
   "metadata": {
    "collapsed": true
   },
   "outputs": [],
   "source": []
  }
 ],
 "metadata": {
  "kernelspec": {
   "display_name": "Python 2",
   "language": "python",
   "name": "python2"
  },
  "language_info": {
   "codemirror_mode": {
    "name": "ipython",
    "version": 2
   },
   "file_extension": ".py",
   "mimetype": "text/x-python",
   "name": "python",
   "nbconvert_exporter": "python",
   "pygments_lexer": "ipython2",
   "version": "2.7.13"
  }
 },
 "nbformat": 4,
 "nbformat_minor": 2
}
