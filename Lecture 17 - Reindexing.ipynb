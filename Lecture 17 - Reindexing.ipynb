{
 "cells": [
  {
   "cell_type": "code",
   "execution_count": 1,
   "metadata": {
    "collapsed": true
   },
   "outputs": [],
   "source": [
    "import numpy as np\n",
    "from pandas import Series, DataFrame\n",
    "import pandas as pd\n",
    "\n",
    "from numpy.random import randn\n"
   ]
  },
  {
   "cell_type": "code",
   "execution_count": 2,
   "metadata": {
    "collapsed": false
   },
   "outputs": [
    {
     "data": {
      "text/plain": [
       "A    1\n",
       "B    2\n",
       "C    3\n",
       "D    4\n",
       "dtype: int64"
      ]
     },
     "execution_count": 2,
     "metadata": {},
     "output_type": "execute_result"
    }
   ],
   "source": [
    "ser1 = Series([1,2,3,4], index=['A','B','C','D'])\n",
    "ser1"
   ]
  },
  {
   "cell_type": "code",
   "execution_count": 4,
   "metadata": {
    "collapsed": false
   },
   "outputs": [
    {
     "data": {
      "text/plain": [
       "A    1.0\n",
       "B    2.0\n",
       "C    3.0\n",
       "D    4.0\n",
       "E    NaN\n",
       "F    NaN\n",
       "dtype: float64"
      ]
     },
     "execution_count": 4,
     "metadata": {},
     "output_type": "execute_result"
    }
   ],
   "source": [
    "ser2 = ser1.reindex(['A','B','C','D','E','F'])\n",
    "\n",
    "ser2"
   ]
  },
  {
   "cell_type": "code",
   "execution_count": 5,
   "metadata": {
    "collapsed": false
   },
   "outputs": [
    {
     "data": {
      "text/plain": [
       "A    1.0\n",
       "B    2.0\n",
       "C    3.0\n",
       "D    4.0\n",
       "E    NaN\n",
       "F    NaN\n",
       "G    0.0\n",
       "dtype: float64"
      ]
     },
     "execution_count": 5,
     "metadata": {},
     "output_type": "execute_result"
    }
   ],
   "source": [
    "ser2.reindex(['A','B','C','D','E','F','G'], fill_value = 0)"
   ]
  },
  {
   "cell_type": "code",
   "execution_count": 6,
   "metadata": {
    "collapsed": false
   },
   "outputs": [
    {
     "data": {
      "text/plain": [
       "0        USA\n",
       "5     Mexico\n",
       "10    Canada\n",
       "dtype: object"
      ]
     },
     "execution_count": 6,
     "metadata": {},
     "output_type": "execute_result"
    }
   ],
   "source": [
    "ser3 = Series(['USA','Mexico','Canada'],index=[0,5,10])\n",
    "ser3"
   ]
  },
  {
   "cell_type": "code",
   "execution_count": 7,
   "metadata": {
    "collapsed": true
   },
   "outputs": [],
   "source": [
    "ranger = range(15)"
   ]
  },
  {
   "cell_type": "code",
   "execution_count": 8,
   "metadata": {
    "collapsed": false
   },
   "outputs": [
    {
     "data": {
      "text/plain": [
       "range(0, 15)"
      ]
     },
     "execution_count": 8,
     "metadata": {},
     "output_type": "execute_result"
    }
   ],
   "source": [
    "ranger"
   ]
  },
  {
   "cell_type": "code",
   "execution_count": 9,
   "metadata": {
    "collapsed": false
   },
   "outputs": [
    {
     "data": {
      "text/plain": [
       "0        USA\n",
       "1        USA\n",
       "2        USA\n",
       "3        USA\n",
       "4        USA\n",
       "5     Mexico\n",
       "6     Mexico\n",
       "7     Mexico\n",
       "8     Mexico\n",
       "9     Mexico\n",
       "10    Canada\n",
       "11    Canada\n",
       "12    Canada\n",
       "13    Canada\n",
       "14    Canada\n",
       "dtype: object"
      ]
     },
     "execution_count": 9,
     "metadata": {},
     "output_type": "execute_result"
    }
   ],
   "source": [
    "ser3.reindex(ranger, method='ffill')"
   ]
  },
  {
   "cell_type": "code",
   "execution_count": 10,
   "metadata": {
    "collapsed": false
   },
   "outputs": [
    {
     "data": {
      "text/html": [
       "<div>\n",
       "<table border=\"1\" class=\"dataframe\">\n",
       "  <thead>\n",
       "    <tr style=\"text-align: right;\">\n",
       "      <th></th>\n",
       "      <th>col1</th>\n",
       "      <th>col2</th>\n",
       "      <th>col3</th>\n",
       "      <th>col4</th>\n",
       "      <th>col5</th>\n",
       "    </tr>\n",
       "  </thead>\n",
       "  <tbody>\n",
       "    <tr>\n",
       "      <th>A</th>\n",
       "      <td>1.208062</td>\n",
       "      <td>0.110323</td>\n",
       "      <td>-0.961755</td>\n",
       "      <td>1.610352</td>\n",
       "      <td>-0.973180</td>\n",
       "    </tr>\n",
       "    <tr>\n",
       "      <th>B</th>\n",
       "      <td>0.016762</td>\n",
       "      <td>-0.915674</td>\n",
       "      <td>-0.586001</td>\n",
       "      <td>-0.495823</td>\n",
       "      <td>-0.608222</td>\n",
       "    </tr>\n",
       "    <tr>\n",
       "      <th>D</th>\n",
       "      <td>0.097726</td>\n",
       "      <td>1.085375</td>\n",
       "      <td>1.603774</td>\n",
       "      <td>1.163209</td>\n",
       "      <td>0.264910</td>\n",
       "    </tr>\n",
       "    <tr>\n",
       "      <th>E</th>\n",
       "      <td>-0.139238</td>\n",
       "      <td>0.194146</td>\n",
       "      <td>0.668866</td>\n",
       "      <td>0.920104</td>\n",
       "      <td>-0.680003</td>\n",
       "    </tr>\n",
       "    <tr>\n",
       "      <th>F</th>\n",
       "      <td>0.054928</td>\n",
       "      <td>1.924546</td>\n",
       "      <td>1.685040</td>\n",
       "      <td>-0.039730</td>\n",
       "      <td>0.448977</td>\n",
       "    </tr>\n",
       "  </tbody>\n",
       "</table>\n",
       "</div>"
      ],
      "text/plain": [
       "       col1      col2      col3      col4      col5\n",
       "A  1.208062  0.110323 -0.961755  1.610352 -0.973180\n",
       "B  0.016762 -0.915674 -0.586001 -0.495823 -0.608222\n",
       "D  0.097726  1.085375  1.603774  1.163209  0.264910\n",
       "E -0.139238  0.194146  0.668866  0.920104 -0.680003\n",
       "F  0.054928  1.924546  1.685040 -0.039730  0.448977"
      ]
     },
     "execution_count": 10,
     "metadata": {},
     "output_type": "execute_result"
    }
   ],
   "source": [
    "dframe = DataFrame(randn(25).reshape((5,5)), index=['A','B','D','E','F'],columns=['col1','col2','col3','col4','col5'])\n",
    "\n",
    "dframe"
   ]
  },
  {
   "cell_type": "code",
   "execution_count": 11,
   "metadata": {
    "collapsed": false
   },
   "outputs": [
    {
     "data": {
      "text/html": [
       "<div>\n",
       "<table border=\"1\" class=\"dataframe\">\n",
       "  <thead>\n",
       "    <tr style=\"text-align: right;\">\n",
       "      <th></th>\n",
       "      <th>col1</th>\n",
       "      <th>col2</th>\n",
       "      <th>col3</th>\n",
       "      <th>col4</th>\n",
       "      <th>col5</th>\n",
       "    </tr>\n",
       "  </thead>\n",
       "  <tbody>\n",
       "    <tr>\n",
       "      <th>A</th>\n",
       "      <td>1.208062</td>\n",
       "      <td>0.110323</td>\n",
       "      <td>-0.961755</td>\n",
       "      <td>1.610352</td>\n",
       "      <td>-0.973180</td>\n",
       "    </tr>\n",
       "    <tr>\n",
       "      <th>B</th>\n",
       "      <td>0.016762</td>\n",
       "      <td>-0.915674</td>\n",
       "      <td>-0.586001</td>\n",
       "      <td>-0.495823</td>\n",
       "      <td>-0.608222</td>\n",
       "    </tr>\n",
       "    <tr>\n",
       "      <th>C</th>\n",
       "      <td>NaN</td>\n",
       "      <td>NaN</td>\n",
       "      <td>NaN</td>\n",
       "      <td>NaN</td>\n",
       "      <td>NaN</td>\n",
       "    </tr>\n",
       "    <tr>\n",
       "      <th>D</th>\n",
       "      <td>0.097726</td>\n",
       "      <td>1.085375</td>\n",
       "      <td>1.603774</td>\n",
       "      <td>1.163209</td>\n",
       "      <td>0.264910</td>\n",
       "    </tr>\n",
       "    <tr>\n",
       "      <th>E</th>\n",
       "      <td>-0.139238</td>\n",
       "      <td>0.194146</td>\n",
       "      <td>0.668866</td>\n",
       "      <td>0.920104</td>\n",
       "      <td>-0.680003</td>\n",
       "    </tr>\n",
       "    <tr>\n",
       "      <th>F</th>\n",
       "      <td>0.054928</td>\n",
       "      <td>1.924546</td>\n",
       "      <td>1.685040</td>\n",
       "      <td>-0.039730</td>\n",
       "      <td>0.448977</td>\n",
       "    </tr>\n",
       "  </tbody>\n",
       "</table>\n",
       "</div>"
      ],
      "text/plain": [
       "       col1      col2      col3      col4      col5\n",
       "A  1.208062  0.110323 -0.961755  1.610352 -0.973180\n",
       "B  0.016762 -0.915674 -0.586001 -0.495823 -0.608222\n",
       "C       NaN       NaN       NaN       NaN       NaN\n",
       "D  0.097726  1.085375  1.603774  1.163209  0.264910\n",
       "E -0.139238  0.194146  0.668866  0.920104 -0.680003\n",
       "F  0.054928  1.924546  1.685040 -0.039730  0.448977"
      ]
     },
     "execution_count": 11,
     "metadata": {},
     "output_type": "execute_result"
    }
   ],
   "source": [
    "# C를 reindex로 넣는 과정\n",
    "\n",
    "dframe2 = dframe.reindex(['A','B','C','D','E','F'])\n",
    "dframe2"
   ]
  },
  {
   "cell_type": "code",
   "execution_count": 12,
   "metadata": {
    "collapsed": true
   },
   "outputs": [],
   "source": [
    "# reindex로 열 추가하는 예시\n",
    "\n",
    "new_columns = ['col1', 'col2', 'col3','col4','col5','col6']"
   ]
  },
  {
   "cell_type": "code",
   "execution_count": 13,
   "metadata": {
    "collapsed": false
   },
   "outputs": [
    {
     "data": {
      "text/html": [
       "<div>\n",
       "<table border=\"1\" class=\"dataframe\">\n",
       "  <thead>\n",
       "    <tr style=\"text-align: right;\">\n",
       "      <th></th>\n",
       "      <th>col1</th>\n",
       "      <th>col2</th>\n",
       "      <th>col3</th>\n",
       "      <th>col4</th>\n",
       "      <th>col5</th>\n",
       "      <th>col6</th>\n",
       "    </tr>\n",
       "  </thead>\n",
       "  <tbody>\n",
       "    <tr>\n",
       "      <th>A</th>\n",
       "      <td>1.208062</td>\n",
       "      <td>0.110323</td>\n",
       "      <td>-0.961755</td>\n",
       "      <td>1.610352</td>\n",
       "      <td>-0.973180</td>\n",
       "      <td>NaN</td>\n",
       "    </tr>\n",
       "    <tr>\n",
       "      <th>B</th>\n",
       "      <td>0.016762</td>\n",
       "      <td>-0.915674</td>\n",
       "      <td>-0.586001</td>\n",
       "      <td>-0.495823</td>\n",
       "      <td>-0.608222</td>\n",
       "      <td>NaN</td>\n",
       "    </tr>\n",
       "    <tr>\n",
       "      <th>C</th>\n",
       "      <td>NaN</td>\n",
       "      <td>NaN</td>\n",
       "      <td>NaN</td>\n",
       "      <td>NaN</td>\n",
       "      <td>NaN</td>\n",
       "      <td>NaN</td>\n",
       "    </tr>\n",
       "    <tr>\n",
       "      <th>D</th>\n",
       "      <td>0.097726</td>\n",
       "      <td>1.085375</td>\n",
       "      <td>1.603774</td>\n",
       "      <td>1.163209</td>\n",
       "      <td>0.264910</td>\n",
       "      <td>NaN</td>\n",
       "    </tr>\n",
       "    <tr>\n",
       "      <th>E</th>\n",
       "      <td>-0.139238</td>\n",
       "      <td>0.194146</td>\n",
       "      <td>0.668866</td>\n",
       "      <td>0.920104</td>\n",
       "      <td>-0.680003</td>\n",
       "      <td>NaN</td>\n",
       "    </tr>\n",
       "    <tr>\n",
       "      <th>F</th>\n",
       "      <td>0.054928</td>\n",
       "      <td>1.924546</td>\n",
       "      <td>1.685040</td>\n",
       "      <td>-0.039730</td>\n",
       "      <td>0.448977</td>\n",
       "      <td>NaN</td>\n",
       "    </tr>\n",
       "  </tbody>\n",
       "</table>\n",
       "</div>"
      ],
      "text/plain": [
       "       col1      col2      col3      col4      col5  col6\n",
       "A  1.208062  0.110323 -0.961755  1.610352 -0.973180   NaN\n",
       "B  0.016762 -0.915674 -0.586001 -0.495823 -0.608222   NaN\n",
       "C       NaN       NaN       NaN       NaN       NaN   NaN\n",
       "D  0.097726  1.085375  1.603774  1.163209  0.264910   NaN\n",
       "E -0.139238  0.194146  0.668866  0.920104 -0.680003   NaN\n",
       "F  0.054928  1.924546  1.685040 -0.039730  0.448977   NaN"
      ]
     },
     "execution_count": 13,
     "metadata": {},
     "output_type": "execute_result"
    }
   ],
   "source": [
    "dframe2.reindex(columns=new_columns)"
   ]
  },
  {
   "cell_type": "code",
   "execution_count": 15,
   "metadata": {
    "collapsed": false
   },
   "outputs": [
    {
     "data": {
      "text/html": [
       "<div>\n",
       "<table border=\"1\" class=\"dataframe\">\n",
       "  <thead>\n",
       "    <tr style=\"text-align: right;\">\n",
       "      <th></th>\n",
       "      <th>col1</th>\n",
       "      <th>col2</th>\n",
       "      <th>col3</th>\n",
       "      <th>col4</th>\n",
       "      <th>col5</th>\n",
       "      <th>col6</th>\n",
       "    </tr>\n",
       "  </thead>\n",
       "  <tbody>\n",
       "    <tr>\n",
       "      <th>A</th>\n",
       "      <td>1.208062</td>\n",
       "      <td>0.110323</td>\n",
       "      <td>-0.961755</td>\n",
       "      <td>1.610352</td>\n",
       "      <td>-0.973180</td>\n",
       "      <td>NaN</td>\n",
       "    </tr>\n",
       "    <tr>\n",
       "      <th>B</th>\n",
       "      <td>0.016762</td>\n",
       "      <td>-0.915674</td>\n",
       "      <td>-0.586001</td>\n",
       "      <td>-0.495823</td>\n",
       "      <td>-0.608222</td>\n",
       "      <td>NaN</td>\n",
       "    </tr>\n",
       "    <tr>\n",
       "      <th>C</th>\n",
       "      <td>NaN</td>\n",
       "      <td>NaN</td>\n",
       "      <td>NaN</td>\n",
       "      <td>NaN</td>\n",
       "      <td>NaN</td>\n",
       "      <td>NaN</td>\n",
       "    </tr>\n",
       "    <tr>\n",
       "      <th>D</th>\n",
       "      <td>0.097726</td>\n",
       "      <td>1.085375</td>\n",
       "      <td>1.603774</td>\n",
       "      <td>1.163209</td>\n",
       "      <td>0.264910</td>\n",
       "      <td>NaN</td>\n",
       "    </tr>\n",
       "    <tr>\n",
       "      <th>E</th>\n",
       "      <td>-0.139238</td>\n",
       "      <td>0.194146</td>\n",
       "      <td>0.668866</td>\n",
       "      <td>0.920104</td>\n",
       "      <td>-0.680003</td>\n",
       "      <td>NaN</td>\n",
       "    </tr>\n",
       "    <tr>\n",
       "      <th>F</th>\n",
       "      <td>0.054928</td>\n",
       "      <td>1.924546</td>\n",
       "      <td>1.685040</td>\n",
       "      <td>-0.039730</td>\n",
       "      <td>0.448977</td>\n",
       "      <td>NaN</td>\n",
       "    </tr>\n",
       "  </tbody>\n",
       "</table>\n",
       "</div>"
      ],
      "text/plain": [
       "       col1      col2      col3      col4      col5  col6\n",
       "A  1.208062  0.110323 -0.961755  1.610352 -0.973180   NaN\n",
       "B  0.016762 -0.915674 -0.586001 -0.495823 -0.608222   NaN\n",
       "C       NaN       NaN       NaN       NaN       NaN   NaN\n",
       "D  0.097726  1.085375  1.603774  1.163209  0.264910   NaN\n",
       "E -0.139238  0.194146  0.668866  0.920104 -0.680003   NaN\n",
       "F  0.054928  1.924546  1.685040 -0.039730  0.448977   NaN"
      ]
     },
     "execution_count": 15,
     "metadata": {},
     "output_type": "execute_result"
    }
   ],
   "source": [
    "# 위 두 케이스를 한번에 하는 ix\n",
    "\n",
    "dframe.ix[['A','B','C','D','E','F'], new_columns]"
   ]
  },
  {
   "cell_type": "code",
   "execution_count": null,
   "metadata": {
    "collapsed": true
   },
   "outputs": [],
   "source": []
  }
 ],
 "metadata": {
  "kernelspec": {
   "display_name": "Python 3",
   "language": "python",
   "name": "python3"
  },
  "language_info": {
   "codemirror_mode": {
    "name": "ipython",
    "version": 3
   },
   "file_extension": ".py",
   "mimetype": "text/x-python",
   "name": "python",
   "nbconvert_exporter": "python",
   "pygments_lexer": "ipython3",
   "version": "3.6.0"
  }
 },
 "nbformat": 4,
 "nbformat_minor": 2
}
