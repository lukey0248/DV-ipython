{
 "cells": [
  {
   "cell_type": "code",
   "execution_count": 1,
   "metadata": {
    "collapsed": true
   },
   "outputs": [],
   "source": [
    "import pandas as pd\n",
    "from pandas import Series, DataFrame\n",
    "\n",
    "import numpy as np"
   ]
  },
  {
   "cell_type": "code",
   "execution_count": 2,
   "metadata": {},
   "outputs": [
    {
     "name": "stderr",
     "output_type": "stream",
     "text": [
      "C:\\Users\\yang\\Anaconda3\\envs\\python_2_7\\lib\\site-packages\\IPython\\html.py:14: ShimWarning: The `IPython.html` package has been deprecated since IPython 4.0. You should import from `notebook` instead. `IPython.html.widgets` has moved to `ipywidgets`.\n",
      "  \"`IPython.html.widgets` has moved to `ipywidgets`.\", ShimWarning)\n"
     ]
    }
   ],
   "source": [
    "import matplotlib.pyplot as plt\n",
    "import seaborn as sns\n",
    "sns.set_style('whitegrid')\n",
    "%matplotlib inline"
   ]
  },
  {
   "cell_type": "code",
   "execution_count": 3,
   "metadata": {
    "collapsed": true
   },
   "outputs": [],
   "source": [
    "from __future__ import division"
   ]
  },
  {
   "cell_type": "markdown",
   "metadata": {},
   "source": [
    "# 선거 관련 정보 site\n",
    "\n",
    "url = http://elections.huffingtonpost.com/pollster\n",
    "\n",
    "# Request\n",
    "url = http://docs.python-requests.org/en/latest\n",
    "\n",
    "# String IO\n",
    "url = http://pymotw.com/2/\n",
    "\n"
   ]
  },
  {
   "cell_type": "code",
   "execution_count": 4,
   "metadata": {
    "collapsed": true
   },
   "outputs": [],
   "source": [
    "import requests"
   ]
  },
  {
   "cell_type": "code",
   "execution_count": 5,
   "metadata": {
    "collapsed": true
   },
   "outputs": [],
   "source": [
    "from StringIO import StringIO"
   ]
  },
  {
   "cell_type": "code",
   "execution_count": 15,
   "metadata": {
    "collapsed": true
   },
   "outputs": [],
   "source": [
    "url = 'http://elections.huffingtonpost.com/pollster/2012-general-election-romney-vs-obama.csv'"
   ]
  },
  {
   "cell_type": "code",
   "execution_count": 16,
   "metadata": {
    "collapsed": true
   },
   "outputs": [],
   "source": [
    "source = requests.get(url).text\n",
    "\n",
    "poll_data = StringIO(source)"
   ]
  },
  {
   "cell_type": "code",
   "execution_count": 17,
   "metadata": {},
   "outputs": [],
   "source": [
    "poll_df = pd.read_csv(poll_data)"
   ]
  },
  {
   "cell_type": "code",
   "execution_count": 20,
   "metadata": {},
   "outputs": [
    {
     "name": "stdout",
     "output_type": "stream",
     "text": [
      "<class 'pandas.core.frame.DataFrame'>\n",
      "RangeIndex: 586 entries, 0 to 585\n",
      "Data columns (total 17 columns):\n",
      "Pollster                  586 non-null object\n",
      "Start Date                586 non-null object\n",
      "End Date                  586 non-null object\n",
      "Entry Date/Time (ET)      586 non-null object\n",
      "Number of Observations    564 non-null float64\n",
      "Population                586 non-null object\n",
      "Mode                      586 non-null object\n",
      "Obama                     586 non-null float64\n",
      "Romney                    586 non-null float64\n",
      "Undecided                 423 non-null float64\n",
      "Other                     202 non-null float64\n",
      "Pollster URL              586 non-null object\n",
      "Source URL                584 non-null object\n",
      "Partisan                  586 non-null object\n",
      "Affiliation               586 non-null object\n",
      "Question Text             0 non-null float64\n",
      "Question Iteration        586 non-null int64\n",
      "dtypes: float64(6), int64(1), object(10)\n",
      "memory usage: 77.9+ KB\n"
     ]
    }
   ],
   "source": [
    "poll_df.info()"
   ]
  },
  {
   "cell_type": "code",
   "execution_count": 21,
   "metadata": {},
   "outputs": [
    {
     "data": {
      "text/html": [
       "<div>\n",
       "<table border=\"1\" class=\"dataframe\">\n",
       "  <thead>\n",
       "    <tr style=\"text-align: right;\">\n",
       "      <th></th>\n",
       "      <th>Pollster</th>\n",
       "      <th>Start Date</th>\n",
       "      <th>End Date</th>\n",
       "      <th>Entry Date/Time (ET)</th>\n",
       "      <th>Number of Observations</th>\n",
       "      <th>Population</th>\n",
       "      <th>Mode</th>\n",
       "      <th>Obama</th>\n",
       "      <th>Romney</th>\n",
       "      <th>Undecided</th>\n",
       "      <th>Other</th>\n",
       "      <th>Pollster URL</th>\n",
       "      <th>Source URL</th>\n",
       "      <th>Partisan</th>\n",
       "      <th>Affiliation</th>\n",
       "      <th>Question Text</th>\n",
       "      <th>Question Iteration</th>\n",
       "    </tr>\n",
       "  </thead>\n",
       "  <tbody>\n",
       "    <tr>\n",
       "      <th>0</th>\n",
       "      <td>Politico/GWU/Battleground</td>\n",
       "      <td>2012-11-04</td>\n",
       "      <td>2012-11-05</td>\n",
       "      <td>2012-11-06T08:40:26Z</td>\n",
       "      <td>1000.0</td>\n",
       "      <td>Likely Voters</td>\n",
       "      <td>Live Phone</td>\n",
       "      <td>47.0</td>\n",
       "      <td>47.0</td>\n",
       "      <td>6.0</td>\n",
       "      <td>NaN</td>\n",
       "      <td>http://elections.huffingtonpost.com/pollster/p...</td>\n",
       "      <td>http://www.politico.com/news/stories/1112/8338...</td>\n",
       "      <td>Nonpartisan</td>\n",
       "      <td>None</td>\n",
       "      <td>NaN</td>\n",
       "      <td>1</td>\n",
       "    </tr>\n",
       "    <tr>\n",
       "      <th>1</th>\n",
       "      <td>YouGov/Economist</td>\n",
       "      <td>2012-11-03</td>\n",
       "      <td>2012-11-05</td>\n",
       "      <td>2012-11-26T15:31:23Z</td>\n",
       "      <td>740.0</td>\n",
       "      <td>Likely Voters</td>\n",
       "      <td>Internet</td>\n",
       "      <td>49.0</td>\n",
       "      <td>47.0</td>\n",
       "      <td>3.0</td>\n",
       "      <td>NaN</td>\n",
       "      <td>http://elections.huffingtonpost.com/pollster/p...</td>\n",
       "      <td>http://cdn.yougov.com/cumulus_uploads/document...</td>\n",
       "      <td>Nonpartisan</td>\n",
       "      <td>None</td>\n",
       "      <td>NaN</td>\n",
       "      <td>1</td>\n",
       "    </tr>\n",
       "    <tr>\n",
       "      <th>2</th>\n",
       "      <td>Gravis Marketing</td>\n",
       "      <td>2012-11-03</td>\n",
       "      <td>2012-11-05</td>\n",
       "      <td>2012-11-06T09:22:02Z</td>\n",
       "      <td>872.0</td>\n",
       "      <td>Likely Voters</td>\n",
       "      <td>Automated Phone</td>\n",
       "      <td>48.0</td>\n",
       "      <td>48.0</td>\n",
       "      <td>4.0</td>\n",
       "      <td>NaN</td>\n",
       "      <td>http://elections.huffingtonpost.com/pollster/p...</td>\n",
       "      <td>http://www.gravispolls.com/2012/11/gravis-mark...</td>\n",
       "      <td>Nonpartisan</td>\n",
       "      <td>None</td>\n",
       "      <td>NaN</td>\n",
       "      <td>1</td>\n",
       "    </tr>\n",
       "    <tr>\n",
       "      <th>3</th>\n",
       "      <td>IBD/TIPP</td>\n",
       "      <td>2012-11-03</td>\n",
       "      <td>2012-11-05</td>\n",
       "      <td>2012-11-06T08:51:48Z</td>\n",
       "      <td>712.0</td>\n",
       "      <td>Likely Voters</td>\n",
       "      <td>Live Phone</td>\n",
       "      <td>50.0</td>\n",
       "      <td>49.0</td>\n",
       "      <td>NaN</td>\n",
       "      <td>1.0</td>\n",
       "      <td>http://elections.huffingtonpost.com/pollster/p...</td>\n",
       "      <td>http://news.investors.com/special-report/50841...</td>\n",
       "      <td>Nonpartisan</td>\n",
       "      <td>None</td>\n",
       "      <td>NaN</td>\n",
       "      <td>1</td>\n",
       "    </tr>\n",
       "    <tr>\n",
       "      <th>4</th>\n",
       "      <td>Rasmussen</td>\n",
       "      <td>2012-11-03</td>\n",
       "      <td>2012-11-05</td>\n",
       "      <td>2012-11-06T08:47:50Z</td>\n",
       "      <td>1500.0</td>\n",
       "      <td>Likely Voters</td>\n",
       "      <td>Automated Phone</td>\n",
       "      <td>48.0</td>\n",
       "      <td>49.0</td>\n",
       "      <td>NaN</td>\n",
       "      <td>NaN</td>\n",
       "      <td>http://elections.huffingtonpost.com/pollster/p...</td>\n",
       "      <td>http://www.rasmussenreports.com/public_content...</td>\n",
       "      <td>Nonpartisan</td>\n",
       "      <td>None</td>\n",
       "      <td>NaN</td>\n",
       "      <td>1</td>\n",
       "    </tr>\n",
       "  </tbody>\n",
       "</table>\n",
       "</div>"
      ],
      "text/plain": [
       "                    Pollster  Start Date    End Date  Entry Date/Time (ET)  \\\n",
       "0  Politico/GWU/Battleground  2012-11-04  2012-11-05  2012-11-06T08:40:26Z   \n",
       "1           YouGov/Economist  2012-11-03  2012-11-05  2012-11-26T15:31:23Z   \n",
       "2           Gravis Marketing  2012-11-03  2012-11-05  2012-11-06T09:22:02Z   \n",
       "3                   IBD/TIPP  2012-11-03  2012-11-05  2012-11-06T08:51:48Z   \n",
       "4                  Rasmussen  2012-11-03  2012-11-05  2012-11-06T08:47:50Z   \n",
       "\n",
       "   Number of Observations     Population             Mode  Obama  Romney  \\\n",
       "0                  1000.0  Likely Voters       Live Phone   47.0    47.0   \n",
       "1                   740.0  Likely Voters         Internet   49.0    47.0   \n",
       "2                   872.0  Likely Voters  Automated Phone   48.0    48.0   \n",
       "3                   712.0  Likely Voters       Live Phone   50.0    49.0   \n",
       "4                  1500.0  Likely Voters  Automated Phone   48.0    49.0   \n",
       "\n",
       "   Undecided  Other                                       Pollster URL  \\\n",
       "0        6.0    NaN  http://elections.huffingtonpost.com/pollster/p...   \n",
       "1        3.0    NaN  http://elections.huffingtonpost.com/pollster/p...   \n",
       "2        4.0    NaN  http://elections.huffingtonpost.com/pollster/p...   \n",
       "3        NaN    1.0  http://elections.huffingtonpost.com/pollster/p...   \n",
       "4        NaN    NaN  http://elections.huffingtonpost.com/pollster/p...   \n",
       "\n",
       "                                          Source URL     Partisan Affiliation  \\\n",
       "0  http://www.politico.com/news/stories/1112/8338...  Nonpartisan        None   \n",
       "1  http://cdn.yougov.com/cumulus_uploads/document...  Nonpartisan        None   \n",
       "2  http://www.gravispolls.com/2012/11/gravis-mark...  Nonpartisan        None   \n",
       "3  http://news.investors.com/special-report/50841...  Nonpartisan        None   \n",
       "4  http://www.rasmussenreports.com/public_content...  Nonpartisan        None   \n",
       "\n",
       "   Question Text  Question Iteration  \n",
       "0            NaN                   1  \n",
       "1            NaN                   1  \n",
       "2            NaN                   1  \n",
       "3            NaN                   1  \n",
       "4            NaN                   1  "
      ]
     },
     "execution_count": 21,
     "metadata": {},
     "output_type": "execute_result"
    }
   ],
   "source": [
    "poll_df.head()"
   ]
  },
  {
   "cell_type": "code",
   "execution_count": 24,
   "metadata": {},
   "outputs": [
    {
     "data": {
      "text/plain": [
       "<seaborn.axisgrid.FacetGrid at 0xbe4bb38>"
      ]
     },
     "execution_count": 24,
     "metadata": {},
     "output_type": "execute_result"
    },
    {
     "data": {
      "image/png": "[encoded data removed]",
      "text/plain": [
       "<matplotlib.figure.Figure at 0xbf71b00>"
      ]
     },
     "metadata": {},
     "output_type": "display_data"
    }
   ],
   "source": [
    "sns.factorplot('Affiliation', data = poll_df, kind = 'count')"
   ]
  },
  {
   "cell_type": "code",
   "execution_count": 26,
   "metadata": {},
   "outputs": [
    {
     "data": {
      "text/plain": [
       "<seaborn.axisgrid.FacetGrid at 0xc4719e8>"
      ]
     },
     "execution_count": 26,
     "metadata": {},
     "output_type": "execute_result"
    },
    {
     "data": {
      "image/png": "[encoded data removed]",
      "text/plain": [
       "<matplotlib.figure.Figure at 0xc157128>"
      ]
     },
     "metadata": {},
     "output_type": "display_data"
    }
   ],
   "source": [
    "sns.factorplot('Affiliation', data=poll_df, kind=  'count', hue='Population')"
   ]
  },
  {
   "cell_type": "code",
   "execution_count": 27,
   "metadata": {},
   "outputs": [
    {
     "data": {
      "text/html": [
       "<div>\n",
       "<table border=\"1\" class=\"dataframe\">\n",
       "  <thead>\n",
       "    <tr style=\"text-align: right;\">\n",
       "      <th></th>\n",
       "      <th>Pollster</th>\n",
       "      <th>Start Date</th>\n",
       "      <th>End Date</th>\n",
       "      <th>Entry Date/Time (ET)</th>\n",
       "      <th>Number of Observations</th>\n",
       "      <th>Population</th>\n",
       "      <th>Mode</th>\n",
       "      <th>Obama</th>\n",
       "      <th>Romney</th>\n",
       "      <th>Undecided</th>\n",
       "      <th>Other</th>\n",
       "      <th>Pollster URL</th>\n",
       "      <th>Source URL</th>\n",
       "      <th>Partisan</th>\n",
       "      <th>Affiliation</th>\n",
       "      <th>Question Text</th>\n",
       "      <th>Question Iteration</th>\n",
       "    </tr>\n",
       "  </thead>\n",
       "  <tbody>\n",
       "    <tr>\n",
       "      <th>0</th>\n",
       "      <td>Politico/GWU/Battleground</td>\n",
       "      <td>2012-11-04</td>\n",
       "      <td>2012-11-05</td>\n",
       "      <td>2012-11-06T08:40:26Z</td>\n",
       "      <td>1000.0</td>\n",
       "      <td>Likely Voters</td>\n",
       "      <td>Live Phone</td>\n",
       "      <td>47.0</td>\n",
       "      <td>47.0</td>\n",
       "      <td>6.0</td>\n",
       "      <td>NaN</td>\n",
       "      <td>http://elections.huffingtonpost.com/pollster/p...</td>\n",
       "      <td>http://www.politico.com/news/stories/1112/8338...</td>\n",
       "      <td>Nonpartisan</td>\n",
       "      <td>None</td>\n",
       "      <td>NaN</td>\n",
       "      <td>1</td>\n",
       "    </tr>\n",
       "    <tr>\n",
       "      <th>1</th>\n",
       "      <td>YouGov/Economist</td>\n",
       "      <td>2012-11-03</td>\n",
       "      <td>2012-11-05</td>\n",
       "      <td>2012-11-26T15:31:23Z</td>\n",
       "      <td>740.0</td>\n",
       "      <td>Likely Voters</td>\n",
       "      <td>Internet</td>\n",
       "      <td>49.0</td>\n",
       "      <td>47.0</td>\n",
       "      <td>3.0</td>\n",
       "      <td>NaN</td>\n",
       "      <td>http://elections.huffingtonpost.com/pollster/p...</td>\n",
       "      <td>http://cdn.yougov.com/cumulus_uploads/document...</td>\n",
       "      <td>Nonpartisan</td>\n",
       "      <td>None</td>\n",
       "      <td>NaN</td>\n",
       "      <td>1</td>\n",
       "    </tr>\n",
       "    <tr>\n",
       "      <th>2</th>\n",
       "      <td>Gravis Marketing</td>\n",
       "      <td>2012-11-03</td>\n",
       "      <td>2012-11-05</td>\n",
       "      <td>2012-11-06T09:22:02Z</td>\n",
       "      <td>872.0</td>\n",
       "      <td>Likely Voters</td>\n",
       "      <td>Automated Phone</td>\n",
       "      <td>48.0</td>\n",
       "      <td>48.0</td>\n",
       "      <td>4.0</td>\n",
       "      <td>NaN</td>\n",
       "      <td>http://elections.huffingtonpost.com/pollster/p...</td>\n",
       "      <td>http://www.gravispolls.com/2012/11/gravis-mark...</td>\n",
       "      <td>Nonpartisan</td>\n",
       "      <td>None</td>\n",
       "      <td>NaN</td>\n",
       "      <td>1</td>\n",
       "    </tr>\n",
       "    <tr>\n",
       "      <th>3</th>\n",
       "      <td>IBD/TIPP</td>\n",
       "      <td>2012-11-03</td>\n",
       "      <td>2012-11-05</td>\n",
       "      <td>2012-11-06T08:51:48Z</td>\n",
       "      <td>712.0</td>\n",
       "      <td>Likely Voters</td>\n",
       "      <td>Live Phone</td>\n",
       "      <td>50.0</td>\n",
       "      <td>49.0</td>\n",
       "      <td>NaN</td>\n",
       "      <td>1.0</td>\n",
       "      <td>http://elections.huffingtonpost.com/pollster/p...</td>\n",
       "      <td>http://news.investors.com/special-report/50841...</td>\n",
       "      <td>Nonpartisan</td>\n",
       "      <td>None</td>\n",
       "      <td>NaN</td>\n",
       "      <td>1</td>\n",
       "    </tr>\n",
       "    <tr>\n",
       "      <th>4</th>\n",
       "      <td>Rasmussen</td>\n",
       "      <td>2012-11-03</td>\n",
       "      <td>2012-11-05</td>\n",
       "      <td>2012-11-06T08:47:50Z</td>\n",
       "      <td>1500.0</td>\n",
       "      <td>Likely Voters</td>\n",
       "      <td>Automated Phone</td>\n",
       "      <td>48.0</td>\n",
       "      <td>49.0</td>\n",
       "      <td>NaN</td>\n",
       "      <td>NaN</td>\n",
       "      <td>http://elections.huffingtonpost.com/pollster/p...</td>\n",
       "      <td>http://www.rasmussenreports.com/public_content...</td>\n",
       "      <td>Nonpartisan</td>\n",
       "      <td>None</td>\n",
       "      <td>NaN</td>\n",
       "      <td>1</td>\n",
       "    </tr>\n",
       "  </tbody>\n",
       "</table>\n",
       "</div>"
      ],
      "text/plain": [
       "                    Pollster  Start Date    End Date  Entry Date/Time (ET)  \\\n",
       "0  Politico/GWU/Battleground  2012-11-04  2012-11-05  2012-11-06T08:40:26Z   \n",
       "1           YouGov/Economist  2012-11-03  2012-11-05  2012-11-26T15:31:23Z   \n",
       "2           Gravis Marketing  2012-11-03  2012-11-05  2012-11-06T09:22:02Z   \n",
       "3                   IBD/TIPP  2012-11-03  2012-11-05  2012-11-06T08:51:48Z   \n",
       "4                  Rasmussen  2012-11-03  2012-11-05  2012-11-06T08:47:50Z   \n",
       "\n",
       "   Number of Observations     Population             Mode  Obama  Romney  \\\n",
       "0                  1000.0  Likely Voters       Live Phone   47.0    47.0   \n",
       "1                   740.0  Likely Voters         Internet   49.0    47.0   \n",
       "2                   872.0  Likely Voters  Automated Phone   48.0    48.0   \n",
       "3                   712.0  Likely Voters       Live Phone   50.0    49.0   \n",
       "4                  1500.0  Likely Voters  Automated Phone   48.0    49.0   \n",
       "\n",
       "   Undecided  Other                                       Pollster URL  \\\n",
       "0        6.0    NaN  http://elections.huffingtonpost.com/pollster/p...   \n",
       "1        3.0    NaN  http://elections.huffingtonpost.com/pollster/p...   \n",
       "2        4.0    NaN  http://elections.huffingtonpost.com/pollster/p...   \n",
       "3        NaN    1.0  http://elections.huffingtonpost.com/pollster/p...   \n",
       "4        NaN    NaN  http://elections.huffingtonpost.com/pollster/p...   \n",
       "\n",
       "                                          Source URL     Partisan Affiliation  \\\n",
       "0  http://www.politico.com/news/stories/1112/8338...  Nonpartisan        None   \n",
       "1  http://cdn.yougov.com/cumulus_uploads/document...  Nonpartisan        None   \n",
       "2  http://www.gravispolls.com/2012/11/gravis-mark...  Nonpartisan        None   \n",
       "3  http://news.investors.com/special-report/50841...  Nonpartisan        None   \n",
       "4  http://www.rasmussenreports.com/public_content...  Nonpartisan        None   \n",
       "\n",
       "   Question Text  Question Iteration  \n",
       "0            NaN                   1  \n",
       "1            NaN                   1  \n",
       "2            NaN                   1  \n",
       "3            NaN                   1  \n",
       "4            NaN                   1  "
      ]
     },
     "execution_count": 27,
     "metadata": {},
     "output_type": "execute_result"
    }
   ],
   "source": [
    "poll_df.head()"
   ]
  },
  {
   "cell_type": "code",
   "execution_count": 30,
   "metadata": {},
   "outputs": [],
   "source": [
    "avg = pd.DataFrame(poll_df.mean())\n",
    "\n",
    "#avg.drop('Number of Observations', axis=0, inplace = True)"
   ]
  },
  {
   "cell_type": "code",
   "execution_count": 31,
   "metadata": {},
   "outputs": [
    {
     "data": {
      "text/html": [
       "<div>\n",
       "<table border=\"1\" class=\"dataframe\">\n",
       "  <thead>\n",
       "    <tr style=\"text-align: right;\">\n",
       "      <th></th>\n",
       "      <th>0</th>\n",
       "    </tr>\n",
       "  </thead>\n",
       "  <tbody>\n",
       "    <tr>\n",
       "      <th>Number of Observations</th>\n",
       "      <td>1296.679078</td>\n",
       "    </tr>\n",
       "    <tr>\n",
       "      <th>Obama</th>\n",
       "      <td>46.805461</td>\n",
       "    </tr>\n",
       "    <tr>\n",
       "      <th>Romney</th>\n",
       "      <td>44.614334</td>\n",
       "    </tr>\n",
       "    <tr>\n",
       "      <th>Undecided</th>\n",
       "      <td>6.550827</td>\n",
       "    </tr>\n",
       "    <tr>\n",
       "      <th>Other</th>\n",
       "      <td>3.376238</td>\n",
       "    </tr>\n",
       "  </tbody>\n",
       "</table>\n",
       "</div>"
      ],
      "text/plain": [
       "                                  0\n",
       "Number of Observations  1296.679078\n",
       "Obama                     46.805461\n",
       "Romney                    44.614334\n",
       "Undecided                  6.550827\n",
       "Other                      3.376238"
      ]
     },
     "execution_count": 31,
     "metadata": {},
     "output_type": "execute_result"
    }
   ],
   "source": [
    "avg.head()"
   ]
  },
  {
   "cell_type": "code",
   "execution_count": 32,
   "metadata": {
    "collapsed": true
   },
   "outputs": [],
   "source": [
    "avg = pd.DataFrame(poll_df.mean())\n",
    "\n",
    "avg.drop('Number of Observations', axis=0, inplace = True)"
   ]
  },
  {
   "cell_type": "code",
   "execution_count": 33,
   "metadata": {},
   "outputs": [
    {
     "data": {
      "text/html": [
       "<div>\n",
       "<table border=\"1\" class=\"dataframe\">\n",
       "  <thead>\n",
       "    <tr style=\"text-align: right;\">\n",
       "      <th></th>\n",
       "      <th>0</th>\n",
       "    </tr>\n",
       "  </thead>\n",
       "  <tbody>\n",
       "    <tr>\n",
       "      <th>Obama</th>\n",
       "      <td>46.805461</td>\n",
       "    </tr>\n",
       "    <tr>\n",
       "      <th>Romney</th>\n",
       "      <td>44.614334</td>\n",
       "    </tr>\n",
       "    <tr>\n",
       "      <th>Undecided</th>\n",
       "      <td>6.550827</td>\n",
       "    </tr>\n",
       "    <tr>\n",
       "      <th>Other</th>\n",
       "      <td>3.376238</td>\n",
       "    </tr>\n",
       "    <tr>\n",
       "      <th>Question Text</th>\n",
       "      <td>NaN</td>\n",
       "    </tr>\n",
       "  </tbody>\n",
       "</table>\n",
       "</div>"
      ],
      "text/plain": [
       "                       0\n",
       "Obama          46.805461\n",
       "Romney         44.614334\n",
       "Undecided       6.550827\n",
       "Other           3.376238\n",
       "Question Text        NaN"
      ]
     },
     "execution_count": 33,
     "metadata": {},
     "output_type": "execute_result"
    }
   ],
   "source": [
    "avg.head()"
   ]
  },
  {
   "cell_type": "code",
   "execution_count": 36,
   "metadata": {},
   "outputs": [],
   "source": [
    "std = pd.DataFrame(poll_df.std())\n",
    "std.drop('Number of Observations',axis=0,inplace=True)"
   ]
  },
  {
   "cell_type": "code",
   "execution_count": 37,
   "metadata": {},
   "outputs": [
    {
     "data": {
      "text/html": [
       "<div>\n",
       "<table border=\"1\" class=\"dataframe\">\n",
       "  <thead>\n",
       "    <tr style=\"text-align: right;\">\n",
       "      <th></th>\n",
       "      <th>0</th>\n",
       "    </tr>\n",
       "  </thead>\n",
       "  <tbody>\n",
       "    <tr>\n",
       "      <th>Obama</th>\n",
       "      <td>2.422058</td>\n",
       "    </tr>\n",
       "    <tr>\n",
       "      <th>Romney</th>\n",
       "      <td>2.906180</td>\n",
       "    </tr>\n",
       "    <tr>\n",
       "      <th>Undecided</th>\n",
       "      <td>3.701754</td>\n",
       "    </tr>\n",
       "    <tr>\n",
       "      <th>Other</th>\n",
       "      <td>2.692726</td>\n",
       "    </tr>\n",
       "    <tr>\n",
       "      <th>Question Text</th>\n",
       "      <td>NaN</td>\n",
       "    </tr>\n",
       "  </tbody>\n",
       "</table>\n",
       "</div>"
      ],
      "text/plain": [
       "                      0\n",
       "Obama          2.422058\n",
       "Romney         2.906180\n",
       "Undecided      3.701754\n",
       "Other          2.692726\n",
       "Question Text       NaN"
      ]
     },
     "execution_count": 37,
     "metadata": {},
     "output_type": "execute_result"
    }
   ],
   "source": [
    "std.head()"
   ]
  },
  {
   "cell_type": "code",
   "execution_count": 42,
   "metadata": {},
   "outputs": [
    {
     "data": {
      "text/plain": [
       "<matplotlib.axes._subplots.AxesSubplot at 0xcd3ff60>"
      ]
     },
     "execution_count": 42,
     "metadata": {},
     "output_type": "execute_result"
    },
    {
     "data": {
      "image/png": "[encoded data removed]",
      "text/plain": [
       "<matplotlib.figure.Figure at 0xcf72b00>"
      ]
     },
     "metadata": {},
     "output_type": "display_data"
    }
   ],
   "source": [
    "avg.plot(yerr=std, kind='bar', legend = False)"
   ]
  },
  {
   "cell_type": "code",
   "execution_count": 43,
   "metadata": {
    "collapsed": true
   },
   "outputs": [],
   "source": [
    "poll_avg = pd.concat([avg,std],axis=1)"
   ]
  },
  {
   "cell_type": "code",
   "execution_count": 44,
   "metadata": {},
   "outputs": [
    {
     "data": {
      "text/html": [
       "<div>\n",
       "<table border=\"1\" class=\"dataframe\">\n",
       "  <thead>\n",
       "    <tr style=\"text-align: right;\">\n",
       "      <th></th>\n",
       "      <th>0</th>\n",
       "      <th>0</th>\n",
       "    </tr>\n",
       "  </thead>\n",
       "  <tbody>\n",
       "    <tr>\n",
       "      <th>Obama</th>\n",
       "      <td>46.805461</td>\n",
       "      <td>2.422058</td>\n",
       "    </tr>\n",
       "    <tr>\n",
       "      <th>Romney</th>\n",
       "      <td>44.614334</td>\n",
       "      <td>2.906180</td>\n",
       "    </tr>\n",
       "    <tr>\n",
       "      <th>Undecided</th>\n",
       "      <td>6.550827</td>\n",
       "      <td>3.701754</td>\n",
       "    </tr>\n",
       "    <tr>\n",
       "      <th>Other</th>\n",
       "      <td>3.376238</td>\n",
       "      <td>2.692726</td>\n",
       "    </tr>\n",
       "    <tr>\n",
       "      <th>Question Text</th>\n",
       "      <td>NaN</td>\n",
       "      <td>NaN</td>\n",
       "    </tr>\n",
       "    <tr>\n",
       "      <th>Question Iteration</th>\n",
       "      <td>1.000000</td>\n",
       "      <td>0.000000</td>\n",
       "    </tr>\n",
       "  </tbody>\n",
       "</table>\n",
       "</div>"
      ],
      "text/plain": [
       "                            0         0\n",
       "Obama               46.805461  2.422058\n",
       "Romney              44.614334  2.906180\n",
       "Undecided            6.550827  3.701754\n",
       "Other                3.376238  2.692726\n",
       "Question Text             NaN       NaN\n",
       "Question Iteration   1.000000  0.000000"
      ]
     },
     "execution_count": 44,
     "metadata": {},
     "output_type": "execute_result"
    }
   ],
   "source": [
    "poll_avg"
   ]
  },
  {
   "cell_type": "code",
   "execution_count": 45,
   "metadata": {
    "collapsed": true
   },
   "outputs": [],
   "source": [
    "poll_avg.columns = ['Average','STD']"
   ]
  },
  {
   "cell_type": "code",
   "execution_count": 46,
   "metadata": {},
   "outputs": [
    {
     "data": {
      "text/html": [
       "<div>\n",
       "<table border=\"1\" class=\"dataframe\">\n",
       "  <thead>\n",
       "    <tr style=\"text-align: right;\">\n",
       "      <th></th>\n",
       "      <th>Average</th>\n",
       "      <th>STD</th>\n",
       "    </tr>\n",
       "  </thead>\n",
       "  <tbody>\n",
       "    <tr>\n",
       "      <th>Obama</th>\n",
       "      <td>46.805461</td>\n",
       "      <td>2.422058</td>\n",
       "    </tr>\n",
       "    <tr>\n",
       "      <th>Romney</th>\n",
       "      <td>44.614334</td>\n",
       "      <td>2.906180</td>\n",
       "    </tr>\n",
       "    <tr>\n",
       "      <th>Undecided</th>\n",
       "      <td>6.550827</td>\n",
       "      <td>3.701754</td>\n",
       "    </tr>\n",
       "    <tr>\n",
       "      <th>Other</th>\n",
       "      <td>3.376238</td>\n",
       "      <td>2.692726</td>\n",
       "    </tr>\n",
       "    <tr>\n",
       "      <th>Question Text</th>\n",
       "      <td>NaN</td>\n",
       "      <td>NaN</td>\n",
       "    </tr>\n",
       "    <tr>\n",
       "      <th>Question Iteration</th>\n",
       "      <td>1.000000</td>\n",
       "      <td>0.000000</td>\n",
       "    </tr>\n",
       "  </tbody>\n",
       "</table>\n",
       "</div>"
      ],
      "text/plain": [
       "                      Average       STD\n",
       "Obama               46.805461  2.422058\n",
       "Romney              44.614334  2.906180\n",
       "Undecided            6.550827  3.701754\n",
       "Other                3.376238  2.692726\n",
       "Question Text             NaN       NaN\n",
       "Question Iteration   1.000000  0.000000"
      ]
     },
     "execution_count": 46,
     "metadata": {},
     "output_type": "execute_result"
    }
   ],
   "source": [
    "poll_avg"
   ]
  },
  {
   "cell_type": "code",
   "execution_count": 47,
   "metadata": {},
   "outputs": [
    {
     "data": {
      "text/html": [
       "<div>\n",
       "<table border=\"1\" class=\"dataframe\">\n",
       "  <thead>\n",
       "    <tr style=\"text-align: right;\">\n",
       "      <th></th>\n",
       "      <th>Pollster</th>\n",
       "      <th>Start Date</th>\n",
       "      <th>End Date</th>\n",
       "      <th>Entry Date/Time (ET)</th>\n",
       "      <th>Number of Observations</th>\n",
       "      <th>Population</th>\n",
       "      <th>Mode</th>\n",
       "      <th>Obama</th>\n",
       "      <th>Romney</th>\n",
       "      <th>Undecided</th>\n",
       "      <th>Other</th>\n",
       "      <th>Pollster URL</th>\n",
       "      <th>Source URL</th>\n",
       "      <th>Partisan</th>\n",
       "      <th>Affiliation</th>\n",
       "      <th>Question Text</th>\n",
       "      <th>Question Iteration</th>\n",
       "    </tr>\n",
       "  </thead>\n",
       "  <tbody>\n",
       "    <tr>\n",
       "      <th>0</th>\n",
       "      <td>Politico/GWU/Battleground</td>\n",
       "      <td>2012-11-04</td>\n",
       "      <td>2012-11-05</td>\n",
       "      <td>2012-11-06T08:40:26Z</td>\n",
       "      <td>1000.0</td>\n",
       "      <td>Likely Voters</td>\n",
       "      <td>Live Phone</td>\n",
       "      <td>47.0</td>\n",
       "      <td>47.0</td>\n",
       "      <td>6.0</td>\n",
       "      <td>NaN</td>\n",
       "      <td>http://elections.huffingtonpost.com/pollster/p...</td>\n",
       "      <td>http://www.politico.com/news/stories/1112/8338...</td>\n",
       "      <td>Nonpartisan</td>\n",
       "      <td>None</td>\n",
       "      <td>NaN</td>\n",
       "      <td>1</td>\n",
       "    </tr>\n",
       "    <tr>\n",
       "      <th>1</th>\n",
       "      <td>YouGov/Economist</td>\n",
       "      <td>2012-11-03</td>\n",
       "      <td>2012-11-05</td>\n",
       "      <td>2012-11-26T15:31:23Z</td>\n",
       "      <td>740.0</td>\n",
       "      <td>Likely Voters</td>\n",
       "      <td>Internet</td>\n",
       "      <td>49.0</td>\n",
       "      <td>47.0</td>\n",
       "      <td>3.0</td>\n",
       "      <td>NaN</td>\n",
       "      <td>http://elections.huffingtonpost.com/pollster/p...</td>\n",
       "      <td>http://cdn.yougov.com/cumulus_uploads/document...</td>\n",
       "      <td>Nonpartisan</td>\n",
       "      <td>None</td>\n",
       "      <td>NaN</td>\n",
       "      <td>1</td>\n",
       "    </tr>\n",
       "    <tr>\n",
       "      <th>2</th>\n",
       "      <td>Gravis Marketing</td>\n",
       "      <td>2012-11-03</td>\n",
       "      <td>2012-11-05</td>\n",
       "      <td>2012-11-06T09:22:02Z</td>\n",
       "      <td>872.0</td>\n",
       "      <td>Likely Voters</td>\n",
       "      <td>Automated Phone</td>\n",
       "      <td>48.0</td>\n",
       "      <td>48.0</td>\n",
       "      <td>4.0</td>\n",
       "      <td>NaN</td>\n",
       "      <td>http://elections.huffingtonpost.com/pollster/p...</td>\n",
       "      <td>http://www.gravispolls.com/2012/11/gravis-mark...</td>\n",
       "      <td>Nonpartisan</td>\n",
       "      <td>None</td>\n",
       "      <td>NaN</td>\n",
       "      <td>1</td>\n",
       "    </tr>\n",
       "    <tr>\n",
       "      <th>3</th>\n",
       "      <td>IBD/TIPP</td>\n",
       "      <td>2012-11-03</td>\n",
       "      <td>2012-11-05</td>\n",
       "      <td>2012-11-06T08:51:48Z</td>\n",
       "      <td>712.0</td>\n",
       "      <td>Likely Voters</td>\n",
       "      <td>Live Phone</td>\n",
       "      <td>50.0</td>\n",
       "      <td>49.0</td>\n",
       "      <td>NaN</td>\n",
       "      <td>1.0</td>\n",
       "      <td>http://elections.huffingtonpost.com/pollster/p...</td>\n",
       "      <td>http://news.investors.com/special-report/50841...</td>\n",
       "      <td>Nonpartisan</td>\n",
       "      <td>None</td>\n",
       "      <td>NaN</td>\n",
       "      <td>1</td>\n",
       "    </tr>\n",
       "    <tr>\n",
       "      <th>4</th>\n",
       "      <td>Rasmussen</td>\n",
       "      <td>2012-11-03</td>\n",
       "      <td>2012-11-05</td>\n",
       "      <td>2012-11-06T08:47:50Z</td>\n",
       "      <td>1500.0</td>\n",
       "      <td>Likely Voters</td>\n",
       "      <td>Automated Phone</td>\n",
       "      <td>48.0</td>\n",
       "      <td>49.0</td>\n",
       "      <td>NaN</td>\n",
       "      <td>NaN</td>\n",
       "      <td>http://elections.huffingtonpost.com/pollster/p...</td>\n",
       "      <td>http://www.rasmussenreports.com/public_content...</td>\n",
       "      <td>Nonpartisan</td>\n",
       "      <td>None</td>\n",
       "      <td>NaN</td>\n",
       "      <td>1</td>\n",
       "    </tr>\n",
       "  </tbody>\n",
       "</table>\n",
       "</div>"
      ],
      "text/plain": [
       "                    Pollster  Start Date    End Date  Entry Date/Time (ET)  \\\n",
       "0  Politico/GWU/Battleground  2012-11-04  2012-11-05  2012-11-06T08:40:26Z   \n",
       "1           YouGov/Economist  2012-11-03  2012-11-05  2012-11-26T15:31:23Z   \n",
       "2           Gravis Marketing  2012-11-03  2012-11-05  2012-11-06T09:22:02Z   \n",
       "3                   IBD/TIPP  2012-11-03  2012-11-05  2012-11-06T08:51:48Z   \n",
       "4                  Rasmussen  2012-11-03  2012-11-05  2012-11-06T08:47:50Z   \n",
       "\n",
       "   Number of Observations     Population             Mode  Obama  Romney  \\\n",
       "0                  1000.0  Likely Voters       Live Phone   47.0    47.0   \n",
       "1                   740.0  Likely Voters         Internet   49.0    47.0   \n",
       "2                   872.0  Likely Voters  Automated Phone   48.0    48.0   \n",
       "3                   712.0  Likely Voters       Live Phone   50.0    49.0   \n",
       "4                  1500.0  Likely Voters  Automated Phone   48.0    49.0   \n",
       "\n",
       "   Undecided  Other                                       Pollster URL  \\\n",
       "0        6.0    NaN  http://elections.huffingtonpost.com/pollster/p...   \n",
       "1        3.0    NaN  http://elections.huffingtonpost.com/pollster/p...   \n",
       "2        4.0    NaN  http://elections.huffingtonpost.com/pollster/p...   \n",
       "3        NaN    1.0  http://elections.huffingtonpost.com/pollster/p...   \n",
       "4        NaN    NaN  http://elections.huffingtonpost.com/pollster/p...   \n",
       "\n",
       "                                          Source URL     Partisan Affiliation  \\\n",
       "0  http://www.politico.com/news/stories/1112/8338...  Nonpartisan        None   \n",
       "1  http://cdn.yougov.com/cumulus_uploads/document...  Nonpartisan        None   \n",
       "2  http://www.gravispolls.com/2012/11/gravis-mark...  Nonpartisan        None   \n",
       "3  http://news.investors.com/special-report/50841...  Nonpartisan        None   \n",
       "4  http://www.rasmussenreports.com/public_content...  Nonpartisan        None   \n",
       "\n",
       "   Question Text  Question Iteration  \n",
       "0            NaN                   1  \n",
       "1            NaN                   1  \n",
       "2            NaN                   1  \n",
       "3            NaN                   1  \n",
       "4            NaN                   1  "
      ]
     },
     "execution_count": 47,
     "metadata": {},
     "output_type": "execute_result"
    }
   ],
   "source": [
    "poll_df.head()"
   ]
  },
  {
   "cell_type": "code",
   "execution_count": 51,
   "metadata": {},
   "outputs": [
    {
     "data": {
      "text/plain": [
       "<matplotlib.axes._subplots.AxesSubplot at 0xcf7a198>"
      ]
     },
     "execution_count": 51,
     "metadata": {},
     "output_type": "execute_result"
    },
    {
     "data": {
      "image/png": "[encoded data removed]",
      "text/plain": [
       "<matplotlib.figure.Figure at 0xd220b70>"
      ]
     },
     "metadata": {},
     "output_type": "display_data"
    }
   ],
   "source": [
    "poll_df.plot(x='End Date',y=['Obama','Romney','Undecided'],linestyle='',marker='o')"
   ]
  },
  {
   "cell_type": "code",
   "execution_count": 52,
   "metadata": {
    "collapsed": true
   },
   "outputs": [],
   "source": [
    "from datetime import datetime"
   ]
  },
  {
   "cell_type": "code",
   "execution_count": 53,
   "metadata": {},
   "outputs": [
    {
     "data": {
      "text/html": [
       "<div>\n",
       "<table border=\"1\" class=\"dataframe\">\n",
       "  <thead>\n",
       "    <tr style=\"text-align: right;\">\n",
       "      <th></th>\n",
       "      <th>Pollster</th>\n",
       "      <th>Start Date</th>\n",
       "      <th>End Date</th>\n",
       "      <th>Entry Date/Time (ET)</th>\n",
       "      <th>Number of Observations</th>\n",
       "      <th>Population</th>\n",
       "      <th>Mode</th>\n",
       "      <th>Obama</th>\n",
       "      <th>Romney</th>\n",
       "      <th>Undecided</th>\n",
       "      <th>Other</th>\n",
       "      <th>Pollster URL</th>\n",
       "      <th>Source URL</th>\n",
       "      <th>Partisan</th>\n",
       "      <th>Affiliation</th>\n",
       "      <th>Question Text</th>\n",
       "      <th>Question Iteration</th>\n",
       "      <th>Difference</th>\n",
       "    </tr>\n",
       "  </thead>\n",
       "  <tbody>\n",
       "    <tr>\n",
       "      <th>0</th>\n",
       "      <td>Politico/GWU/Battleground</td>\n",
       "      <td>2012-11-04</td>\n",
       "      <td>2012-11-05</td>\n",
       "      <td>2012-11-06T08:40:26Z</td>\n",
       "      <td>1000.0</td>\n",
       "      <td>Likely Voters</td>\n",
       "      <td>Live Phone</td>\n",
       "      <td>47.0</td>\n",
       "      <td>47.0</td>\n",
       "      <td>6.0</td>\n",
       "      <td>NaN</td>\n",
       "      <td>http://elections.huffingtonpost.com/pollster/p...</td>\n",
       "      <td>http://www.politico.com/news/stories/1112/8338...</td>\n",
       "      <td>Nonpartisan</td>\n",
       "      <td>None</td>\n",
       "      <td>NaN</td>\n",
       "      <td>1</td>\n",
       "      <td>0.00</td>\n",
       "    </tr>\n",
       "    <tr>\n",
       "      <th>1</th>\n",
       "      <td>YouGov/Economist</td>\n",
       "      <td>2012-11-03</td>\n",
       "      <td>2012-11-05</td>\n",
       "      <td>2012-11-26T15:31:23Z</td>\n",
       "      <td>740.0</td>\n",
       "      <td>Likely Voters</td>\n",
       "      <td>Internet</td>\n",
       "      <td>49.0</td>\n",
       "      <td>47.0</td>\n",
       "      <td>3.0</td>\n",
       "      <td>NaN</td>\n",
       "      <td>http://elections.huffingtonpost.com/pollster/p...</td>\n",
       "      <td>http://cdn.yougov.com/cumulus_uploads/document...</td>\n",
       "      <td>Nonpartisan</td>\n",
       "      <td>None</td>\n",
       "      <td>NaN</td>\n",
       "      <td>1</td>\n",
       "      <td>0.02</td>\n",
       "    </tr>\n",
       "    <tr>\n",
       "      <th>2</th>\n",
       "      <td>Gravis Marketing</td>\n",
       "      <td>2012-11-03</td>\n",
       "      <td>2012-11-05</td>\n",
       "      <td>2012-11-06T09:22:02Z</td>\n",
       "      <td>872.0</td>\n",
       "      <td>Likely Voters</td>\n",
       "      <td>Automated Phone</td>\n",
       "      <td>48.0</td>\n",
       "      <td>48.0</td>\n",
       "      <td>4.0</td>\n",
       "      <td>NaN</td>\n",
       "      <td>http://elections.huffingtonpost.com/pollster/p...</td>\n",
       "      <td>http://www.gravispolls.com/2012/11/gravis-mark...</td>\n",
       "      <td>Nonpartisan</td>\n",
       "      <td>None</td>\n",
       "      <td>NaN</td>\n",
       "      <td>1</td>\n",
       "      <td>0.00</td>\n",
       "    </tr>\n",
       "    <tr>\n",
       "      <th>3</th>\n",
       "      <td>IBD/TIPP</td>\n",
       "      <td>2012-11-03</td>\n",
       "      <td>2012-11-05</td>\n",
       "      <td>2012-11-06T08:51:48Z</td>\n",
       "      <td>712.0</td>\n",
       "      <td>Likely Voters</td>\n",
       "      <td>Live Phone</td>\n",
       "      <td>50.0</td>\n",
       "      <td>49.0</td>\n",
       "      <td>NaN</td>\n",
       "      <td>1.0</td>\n",
       "      <td>http://elections.huffingtonpost.com/pollster/p...</td>\n",
       "      <td>http://news.investors.com/special-report/50841...</td>\n",
       "      <td>Nonpartisan</td>\n",
       "      <td>None</td>\n",
       "      <td>NaN</td>\n",
       "      <td>1</td>\n",
       "      <td>0.01</td>\n",
       "    </tr>\n",
       "    <tr>\n",
       "      <th>4</th>\n",
       "      <td>Rasmussen</td>\n",
       "      <td>2012-11-03</td>\n",
       "      <td>2012-11-05</td>\n",
       "      <td>2012-11-06T08:47:50Z</td>\n",
       "      <td>1500.0</td>\n",
       "      <td>Likely Voters</td>\n",
       "      <td>Automated Phone</td>\n",
       "      <td>48.0</td>\n",
       "      <td>49.0</td>\n",
       "      <td>NaN</td>\n",
       "      <td>NaN</td>\n",
       "      <td>http://elections.huffingtonpost.com/pollster/p...</td>\n",
       "      <td>http://www.rasmussenreports.com/public_content...</td>\n",
       "      <td>Nonpartisan</td>\n",
       "      <td>None</td>\n",
       "      <td>NaN</td>\n",
       "      <td>1</td>\n",
       "      <td>-0.01</td>\n",
       "    </tr>\n",
       "  </tbody>\n",
       "</table>\n",
       "</div>"
      ],
      "text/plain": [
       "                    Pollster  Start Date    End Date  Entry Date/Time (ET)  \\\n",
       "0  Politico/GWU/Battleground  2012-11-04  2012-11-05  2012-11-06T08:40:26Z   \n",
       "1           YouGov/Economist  2012-11-03  2012-11-05  2012-11-26T15:31:23Z   \n",
       "2           Gravis Marketing  2012-11-03  2012-11-05  2012-11-06T09:22:02Z   \n",
       "3                   IBD/TIPP  2012-11-03  2012-11-05  2012-11-06T08:51:48Z   \n",
       "4                  Rasmussen  2012-11-03  2012-11-05  2012-11-06T08:47:50Z   \n",
       "\n",
       "   Number of Observations     Population             Mode  Obama  Romney  \\\n",
       "0                  1000.0  Likely Voters       Live Phone   47.0    47.0   \n",
       "1                   740.0  Likely Voters         Internet   49.0    47.0   \n",
       "2                   872.0  Likely Voters  Automated Phone   48.0    48.0   \n",
       "3                   712.0  Likely Voters       Live Phone   50.0    49.0   \n",
       "4                  1500.0  Likely Voters  Automated Phone   48.0    49.0   \n",
       "\n",
       "   Undecided  Other                                       Pollster URL  \\\n",
       "0        6.0    NaN  http://elections.huffingtonpost.com/pollster/p...   \n",
       "1        3.0    NaN  http://elections.huffingtonpost.com/pollster/p...   \n",
       "2        4.0    NaN  http://elections.huffingtonpost.com/pollster/p...   \n",
       "3        NaN    1.0  http://elections.huffingtonpost.com/pollster/p...   \n",
       "4        NaN    NaN  http://elections.huffingtonpost.com/pollster/p...   \n",
       "\n",
       "                                          Source URL     Partisan Affiliation  \\\n",
       "0  http://www.politico.com/news/stories/1112/8338...  Nonpartisan        None   \n",
       "1  http://cdn.yougov.com/cumulus_uploads/document...  Nonpartisan        None   \n",
       "2  http://www.gravispolls.com/2012/11/gravis-mark...  Nonpartisan        None   \n",
       "3  http://news.investors.com/special-report/50841...  Nonpartisan        None   \n",
       "4  http://www.rasmussenreports.com/public_content...  Nonpartisan        None   \n",
       "\n",
       "   Question Text  Question Iteration  Difference  \n",
       "0            NaN                   1        0.00  \n",
       "1            NaN                   1        0.02  \n",
       "2            NaN                   1        0.00  \n",
       "3            NaN                   1        0.01  \n",
       "4            NaN                   1       -0.01  "
      ]
     },
     "execution_count": 53,
     "metadata": {},
     "output_type": "execute_result"
    }
   ],
   "source": [
    "poll_df['Difference'] = (poll_df.Obama - poll_df.Romney)/100\n",
    "poll_df.head()"
   ]
  },
  {
   "cell_type": "code",
   "execution_count": 55,
   "metadata": {},
   "outputs": [],
   "source": [
    "# poll_df = poll_df.groupby(['Start Date'], as_index=False).mean()\n",
    "poll_df = poll_df.groupby(['Start Date'], as_index=False).mean()"
   ]
  },
  {
   "cell_type": "code",
   "execution_count": 56,
   "metadata": {},
   "outputs": [
    {
     "data": {
      "text/html": [
       "<div>\n",
       "<table border=\"1\" class=\"dataframe\">\n",
       "  <thead>\n",
       "    <tr style=\"text-align: right;\">\n",
       "      <th></th>\n",
       "      <th>Start Date</th>\n",
       "      <th>Number of Observations</th>\n",
       "      <th>Obama</th>\n",
       "      <th>Romney</th>\n",
       "      <th>Undecided</th>\n",
       "      <th>Other</th>\n",
       "      <th>Question Text</th>\n",
       "      <th>Question Iteration</th>\n",
       "      <th>Difference</th>\n",
       "    </tr>\n",
       "  </thead>\n",
       "  <tbody>\n",
       "    <tr>\n",
       "      <th>0</th>\n",
       "      <td>2009-03-13</td>\n",
       "      <td>1403.0</td>\n",
       "      <td>44.0</td>\n",
       "      <td>44.0</td>\n",
       "      <td>12.0</td>\n",
       "      <td>NaN</td>\n",
       "      <td>NaN</td>\n",
       "      <td>1</td>\n",
       "      <td>0.00</td>\n",
       "    </tr>\n",
       "    <tr>\n",
       "      <th>1</th>\n",
       "      <td>2009-04-17</td>\n",
       "      <td>686.0</td>\n",
       "      <td>50.0</td>\n",
       "      <td>39.0</td>\n",
       "      <td>11.0</td>\n",
       "      <td>NaN</td>\n",
       "      <td>NaN</td>\n",
       "      <td>1</td>\n",
       "      <td>0.11</td>\n",
       "    </tr>\n",
       "    <tr>\n",
       "      <th>2</th>\n",
       "      <td>2009-05-14</td>\n",
       "      <td>1000.0</td>\n",
       "      <td>53.0</td>\n",
       "      <td>35.0</td>\n",
       "      <td>12.0</td>\n",
       "      <td>NaN</td>\n",
       "      <td>NaN</td>\n",
       "      <td>1</td>\n",
       "      <td>0.18</td>\n",
       "    </tr>\n",
       "    <tr>\n",
       "      <th>3</th>\n",
       "      <td>2009-06-12</td>\n",
       "      <td>638.0</td>\n",
       "      <td>48.0</td>\n",
       "      <td>40.0</td>\n",
       "      <td>12.0</td>\n",
       "      <td>NaN</td>\n",
       "      <td>NaN</td>\n",
       "      <td>1</td>\n",
       "      <td>0.08</td>\n",
       "    </tr>\n",
       "    <tr>\n",
       "      <th>4</th>\n",
       "      <td>2009-07-15</td>\n",
       "      <td>577.0</td>\n",
       "      <td>49.0</td>\n",
       "      <td>40.0</td>\n",
       "      <td>11.0</td>\n",
       "      <td>NaN</td>\n",
       "      <td>NaN</td>\n",
       "      <td>1</td>\n",
       "      <td>0.09</td>\n",
       "    </tr>\n",
       "  </tbody>\n",
       "</table>\n",
       "</div>"
      ],
      "text/plain": [
       "   Start Date  Number of Observations  Obama  Romney  Undecided  Other  \\\n",
       "0  2009-03-13                  1403.0   44.0    44.0       12.0    NaN   \n",
       "1  2009-04-17                   686.0   50.0    39.0       11.0    NaN   \n",
       "2  2009-05-14                  1000.0   53.0    35.0       12.0    NaN   \n",
       "3  2009-06-12                   638.0   48.0    40.0       12.0    NaN   \n",
       "4  2009-07-15                   577.0   49.0    40.0       11.0    NaN   \n",
       "\n",
       "   Question Text  Question Iteration  Difference  \n",
       "0            NaN                   1        0.00  \n",
       "1            NaN                   1        0.11  \n",
       "2            NaN                   1        0.18  \n",
       "3            NaN                   1        0.08  \n",
       "4            NaN                   1        0.09  "
      ]
     },
     "execution_count": 56,
     "metadata": {},
     "output_type": "execute_result"
    }
   ],
   "source": [
    "poll_df.head()"
   ]
  },
  {
   "cell_type": "code",
   "execution_count": 57,
   "metadata": {},
   "outputs": [
    {
     "data": {
      "text/plain": [
       "<matplotlib.axes._subplots.AxesSubplot at 0xd552080>"
      ]
     },
     "execution_count": 57,
     "metadata": {},
     "output_type": "execute_result"
    },
    {
     "data": {
      "image/png": "[encoded data removed]",
      "text/plain": [
       "<matplotlib.figure.Figure at 0xd51f080>"
      ]
     },
     "metadata": {},
     "output_type": "display_data"
    }
   ],
   "source": [
    "poll_df.plot('Start Date','Difference', figsize=(12,4), marker='o', linestyle='-', color='purple')"
   ]
  },
  {
   "cell_type": "code",
   "execution_count": 62,
   "metadata": {},
   "outputs": [
    {
     "name": "stdout",
     "output_type": "stream",
     "text": [
      "325\n",
      "352\n"
     ]
    }
   ],
   "source": [
    "row_in = 0\n",
    "xlimit=[]\n",
    "\n",
    "for date in poll_df['Start Date']:\n",
    "    if date[0:7] == '2012-10':\n",
    "        xlimit.append(row_in)\n",
    "        row_in +=1\n",
    "    else:\n",
    "        row_in +=1\n",
    "\n",
    "print min(xlimit)\n",
    "print max(xlimit)"
   ]
  },
  {
   "cell_type": "code",
   "execution_count": 65,
   "metadata": {},
   "outputs": [
    {
     "data": {
      "text/plain": [
       "<matplotlib.axes._subplots.AxesSubplot at 0xdac8d68>"
      ]
     },
     "execution_count": 65,
     "metadata": {},
     "output_type": "execute_result"
    },
    {
     "data": {
      "image/png": "[encoded data removed]",
      "text/plain": [
       "<matplotlib.figure.Figure at 0xd516c18>"
      ]
     },
     "metadata": {},
     "output_type": "display_data"
    }
   ],
   "source": [
    "poll_df.plot('Start Date','Difference', figsize=(12,4), marker='o', linestyle='-', color='purple', xlim=(325,352))"
   ]
  },
  {
   "cell_type": "code",
   "execution_count": 66,
   "metadata": {},
   "outputs": [
    {
     "data": {
      "text/plain": [
       "<matplotlib.lines.Line2D at 0xc905908>"
      ]
     },
     "execution_count": 66,
     "metadata": {},
     "output_type": "execute_result"
    },
    {
     "data": {
      "image/png": "[encoded data removed]",
      "text/plain": [
       "<matplotlib.figure.Figure at 0xd83ae48>"
      ]
     },
     "metadata": {},
     "output_type": "display_data"
    }
   ],
   "source": [
    "poll_df.plot('Start Date','Difference', figsize=(12,4), marker='o', linestyle='-', color='purple', xlim=(325,352))\n",
    "\n",
    "#Oct 3rd\n",
    "plt.axvline(x=325+2, linewidth=4, color = 'grey')\n",
    "\n",
    "#Oct 11th\n",
    "plt.axvline(x=325+10, linewidth=4, color = 'grey')\n",
    "\n",
    "#OCt 22nd\n",
    "plt.axvline(x=325+21, linewidth=4, color = 'grey')"
   ]
  },
  {
   "cell_type": "markdown",
   "metadata": {},
   "source": [
    "For all these polls it is important to remeber how geographical location can effect the value of a poll in predicting the outcomes of a national election. \n",
    "\n",
    "# Donor Data Set\n",
    "\n",
    "Let's go ahead and switch gears and take a look at a data set consisting of information on donations to the federal campaign. \n",
    "\n",
    "This is going to be the biggest data set we've looked at so far. You can download it [here](https://www.dropbox.com/s/l29oppon2veaq4n/Election_Donor_Data.csv?dl=0) , then make sure to save it to the same folder your iPython Notebooks are in.\n",
    "\n",
    "The questions we will be trying to answer while looking at this Data Set is:\n",
    "\n",
    "    1.) How much was donated and what was the average donation?\n",
    "    2.) How did the donations differ between candidates?\n",
    "    3.) How did the donations differ between Democrats and Republicans?\n",
    "    4.) What were the demographics of the donors?\n",
    "    5.) Is there a pattern to donation amounts?"
   ]
  },
  {
   "cell_type": "code",
   "execution_count": 68,
   "metadata": {},
   "outputs": [
    {
     "data": {
      "text/plain": [
       "u'C:\\\\Users\\\\yang\\\\Documents\\\\Udemy_python_2017'"
      ]
     },
     "execution_count": 68,
     "metadata": {},
     "output_type": "execute_result"
    }
   ],
   "source": [
    "pwd"
   ]
  },
  {
   "cell_type": "code",
   "execution_count": 69,
   "metadata": {},
   "outputs": [
    {
     "name": "stderr",
     "output_type": "stream",
     "text": [
      "C:\\Users\\yang\\Anaconda3\\envs\\python_2_7\\lib\\site-packages\\IPython\\core\\interactiveshell.py:2717: DtypeWarning: Columns (6) have mixed types. Specify dtype option on import or set low_memory=False.\n",
      "  interactivity=interactivity, compiler=compiler, result=result)\n"
     ]
    }
   ],
   "source": [
    "donor_df = pd.read_csv('Election_Donor_Data.csv')"
   ]
  },
  {
   "cell_type": "code",
   "execution_count": 70,
   "metadata": {},
   "outputs": [
    {
     "name": "stdout",
     "output_type": "stream",
     "text": [
      "<class 'pandas.core.frame.DataFrame'>\n",
      "RangeIndex: 1001731 entries, 0 to 1001730\n",
      "Data columns (total 16 columns):\n",
      "cmte_id              1001731 non-null object\n",
      "cand_id              1001731 non-null object\n",
      "cand_nm              1001731 non-null object\n",
      "contbr_nm            1001731 non-null object\n",
      "contbr_city          1001712 non-null object\n",
      "contbr_st            1001727 non-null object\n",
      "contbr_zip           1001620 non-null object\n",
      "contbr_employer      988002 non-null object\n",
      "contbr_occupation    993301 non-null object\n",
      "contb_receipt_amt    1001731 non-null float64\n",
      "contb_receipt_dt     1001731 non-null object\n",
      "receipt_desc         14166 non-null object\n",
      "memo_cd              92482 non-null object\n",
      "memo_text            97770 non-null object\n",
      "form_tp              1001731 non-null object\n",
      "file_num             1001731 non-null int64\n",
      "dtypes: float64(1), int64(1), object(14)\n",
      "memory usage: 122.3+ MB\n"
     ]
    }
   ],
   "source": [
    "donor_df.info()"
   ]
  },
  {
   "cell_type": "code",
   "execution_count": 71,
   "metadata": {},
   "outputs": [
    {
     "data": {
      "text/html": [
       "<div>\n",
       "<table border=\"1\" class=\"dataframe\">\n",
       "  <thead>\n",
       "    <tr style=\"text-align: right;\">\n",
       "      <th></th>\n",
       "      <th>cmte_id</th>\n",
       "      <th>cand_id</th>\n",
       "      <th>cand_nm</th>\n",
       "      <th>contbr_nm</th>\n",
       "      <th>contbr_city</th>\n",
       "      <th>contbr_st</th>\n",
       "      <th>contbr_zip</th>\n",
       "      <th>contbr_employer</th>\n",
       "      <th>contbr_occupation</th>\n",
       "      <th>contb_receipt_amt</th>\n",
       "      <th>contb_receipt_dt</th>\n",
       "      <th>receipt_desc</th>\n",
       "      <th>memo_cd</th>\n",
       "      <th>memo_text</th>\n",
       "      <th>form_tp</th>\n",
       "      <th>file_num</th>\n",
       "    </tr>\n",
       "  </thead>\n",
       "  <tbody>\n",
       "    <tr>\n",
       "      <th>0</th>\n",
       "      <td>C00410118</td>\n",
       "      <td>P20002978</td>\n",
       "      <td>Bachmann, Michelle</td>\n",
       "      <td>HARVEY, WILLIAM</td>\n",
       "      <td>MOBILE</td>\n",
       "      <td>AL</td>\n",
       "      <td>3.6601e+08</td>\n",
       "      <td>RETIRED</td>\n",
       "      <td>RETIRED</td>\n",
       "      <td>250.0</td>\n",
       "      <td>20-JUN-11</td>\n",
       "      <td>NaN</td>\n",
       "      <td>NaN</td>\n",
       "      <td>NaN</td>\n",
       "      <td>SA17A</td>\n",
       "      <td>736166</td>\n",
       "    </tr>\n",
       "    <tr>\n",
       "      <th>1</th>\n",
       "      <td>C00410118</td>\n",
       "      <td>P20002978</td>\n",
       "      <td>Bachmann, Michelle</td>\n",
       "      <td>HARVEY, WILLIAM</td>\n",
       "      <td>MOBILE</td>\n",
       "      <td>AL</td>\n",
       "      <td>3.6601e+08</td>\n",
       "      <td>RETIRED</td>\n",
       "      <td>RETIRED</td>\n",
       "      <td>50.0</td>\n",
       "      <td>23-JUN-11</td>\n",
       "      <td>NaN</td>\n",
       "      <td>NaN</td>\n",
       "      <td>NaN</td>\n",
       "      <td>SA17A</td>\n",
       "      <td>736166</td>\n",
       "    </tr>\n",
       "    <tr>\n",
       "      <th>2</th>\n",
       "      <td>C00410118</td>\n",
       "      <td>P20002978</td>\n",
       "      <td>Bachmann, Michelle</td>\n",
       "      <td>SMITH, LANIER</td>\n",
       "      <td>LANETT</td>\n",
       "      <td>AL</td>\n",
       "      <td>3.68633e+08</td>\n",
       "      <td>INFORMATION REQUESTED</td>\n",
       "      <td>INFORMATION REQUESTED</td>\n",
       "      <td>250.0</td>\n",
       "      <td>05-JUL-11</td>\n",
       "      <td>NaN</td>\n",
       "      <td>NaN</td>\n",
       "      <td>NaN</td>\n",
       "      <td>SA17A</td>\n",
       "      <td>749073</td>\n",
       "    </tr>\n",
       "    <tr>\n",
       "      <th>3</th>\n",
       "      <td>C00410118</td>\n",
       "      <td>P20002978</td>\n",
       "      <td>Bachmann, Michelle</td>\n",
       "      <td>BLEVINS, DARONDA</td>\n",
       "      <td>PIGGOTT</td>\n",
       "      <td>AR</td>\n",
       "      <td>7.24548e+08</td>\n",
       "      <td>NONE</td>\n",
       "      <td>RETIRED</td>\n",
       "      <td>250.0</td>\n",
       "      <td>01-AUG-11</td>\n",
       "      <td>NaN</td>\n",
       "      <td>NaN</td>\n",
       "      <td>NaN</td>\n",
       "      <td>SA17A</td>\n",
       "      <td>749073</td>\n",
       "    </tr>\n",
       "    <tr>\n",
       "      <th>4</th>\n",
       "      <td>C00410118</td>\n",
       "      <td>P20002978</td>\n",
       "      <td>Bachmann, Michelle</td>\n",
       "      <td>WARDENBURG, HAROLD</td>\n",
       "      <td>HOT SPRINGS NATION</td>\n",
       "      <td>AR</td>\n",
       "      <td>7.19016e+08</td>\n",
       "      <td>NONE</td>\n",
       "      <td>RETIRED</td>\n",
       "      <td>300.0</td>\n",
       "      <td>20-JUN-11</td>\n",
       "      <td>NaN</td>\n",
       "      <td>NaN</td>\n",
       "      <td>NaN</td>\n",
       "      <td>SA17A</td>\n",
       "      <td>736166</td>\n",
       "    </tr>\n",
       "  </tbody>\n",
       "</table>\n",
       "</div>"
      ],
      "text/plain": [
       "     cmte_id    cand_id             cand_nm           contbr_nm  \\\n",
       "0  C00410118  P20002978  Bachmann, Michelle     HARVEY, WILLIAM   \n",
       "1  C00410118  P20002978  Bachmann, Michelle     HARVEY, WILLIAM   \n",
       "2  C00410118  P20002978  Bachmann, Michelle       SMITH, LANIER   \n",
       "3  C00410118  P20002978  Bachmann, Michelle    BLEVINS, DARONDA   \n",
       "4  C00410118  P20002978  Bachmann, Michelle  WARDENBURG, HAROLD   \n",
       "\n",
       "          contbr_city contbr_st   contbr_zip        contbr_employer  \\\n",
       "0              MOBILE        AL   3.6601e+08                RETIRED   \n",
       "1              MOBILE        AL   3.6601e+08                RETIRED   \n",
       "2              LANETT        AL  3.68633e+08  INFORMATION REQUESTED   \n",
       "3             PIGGOTT        AR  7.24548e+08                   NONE   \n",
       "4  HOT SPRINGS NATION        AR  7.19016e+08                   NONE   \n",
       "\n",
       "       contbr_occupation  contb_receipt_amt contb_receipt_dt receipt_desc  \\\n",
       "0                RETIRED              250.0        20-JUN-11          NaN   \n",
       "1                RETIRED               50.0        23-JUN-11          NaN   \n",
       "2  INFORMATION REQUESTED              250.0        05-JUL-11          NaN   \n",
       "3                RETIRED              250.0        01-AUG-11          NaN   \n",
       "4                RETIRED              300.0        20-JUN-11          NaN   \n",
       "\n",
       "  memo_cd memo_text form_tp  file_num  \n",
       "0     NaN       NaN   SA17A    736166  \n",
       "1     NaN       NaN   SA17A    736166  \n",
       "2     NaN       NaN   SA17A    749073  \n",
       "3     NaN       NaN   SA17A    749073  \n",
       "4     NaN       NaN   SA17A    736166  "
      ]
     },
     "execution_count": 71,
     "metadata": {},
     "output_type": "execute_result"
    }
   ],
   "source": [
    "donor_df.head()"
   ]
  },
  {
   "cell_type": "code",
   "execution_count": 72,
   "metadata": {},
   "outputs": [
    {
     "data": {
      "text/plain": [
       " 100.00     178188\n",
       " 50.00      137584\n",
       " 25.00      110345\n",
       " 250.00      91182\n",
       " 500.00      57984\n",
       " 2500.00     49005\n",
       " 35.00       37237\n",
       " 1000.00     36494\n",
       " 10.00       33986\n",
       " 200.00      27813\n",
       " 20.00       17565\n",
       " 15.00       16163\n",
       " 150.00      14600\n",
       " 75.00       13647\n",
       " 201.20      11718\n",
       " 30.00       11381\n",
       " 300.00      11204\n",
       " 20.12        9897\n",
       " 5.00         9024\n",
       " 40.00        5007\n",
       " 2000.00      4128\n",
       " 55.00        3760\n",
       " 1500.00      3705\n",
       " 3.00         3383\n",
       " 60.00        3084\n",
       " 400.00       3066\n",
       "-2500.00      2727\n",
       " 110.00       2554\n",
       " 125.00       2520\n",
       " 19.00        2474\n",
       "             ...  \n",
       " 174.80          1\n",
       " 7.27            1\n",
       " 1219.00         1\n",
       " 1884.88         1\n",
       " 162.25          1\n",
       " 218.31          1\n",
       " 78.62           1\n",
       " 203.16          1\n",
       " 53.11           1\n",
       " 499.66          1\n",
       " 19.53           1\n",
       " 188.60          1\n",
       " 47.10           1\n",
       " 19.85           1\n",
       " 28.83           1\n",
       " 202.59          1\n",
       "-5500.00         1\n",
       " 9.25            1\n",
       " 202.66          1\n",
       " 1205.00         1\n",
       " 80.73           1\n",
       " 115.07          1\n",
       " 213.69          1\n",
       " 70.76           1\n",
       " 144.13          1\n",
       " 97.15           1\n",
       " 122.32          1\n",
       " 188.65          1\n",
       " 122.40          1\n",
       " 132.12          1\n",
       "Name: contb_receipt_amt, dtype: int64"
      ]
     },
     "execution_count": 72,
     "metadata": {},
     "output_type": "execute_result"
    }
   ],
   "source": [
    "donor_df['contb_receipt_amt'].value_counts()"
   ]
  },
  {
   "cell_type": "code",
   "execution_count": 74,
   "metadata": {},
   "outputs": [
    {
     "name": "stdout",
     "output_type": "stream",
     "text": [
      "The average donatino was 298.24 with a std 3749.67\n"
     ]
    }
   ],
   "source": [
    "don_mean = donor_df['contb_receipt_amt'].mean()\n",
    "don_mean\n",
    "don_std = donor_df['contb_receipt_amt'].std()\n",
    "don_std\n",
    "print 'The average donatino was %.2f with a std %.2f' %(don_mean,don_std)\n"
   ]
  },
  {
   "cell_type": "code",
   "execution_count": 75,
   "metadata": {},
   "outputs": [
    {
     "name": "stderr",
     "output_type": "stream",
     "text": [
      "C:\\Users\\yang\\Anaconda3\\envs\\python_2_7\\lib\\site-packages\\ipykernel_launcher.py:3: FutureWarning: sort is deprecated, use sort_values(inplace=True) for INPLACE sorting\n",
      "  This is separate from the ipykernel package so we can avoid doing imports until\n"
     ]
    },
    {
     "data": {
      "text/plain": [
       "114604     -30800.00\n",
       "226986     -25800.00\n",
       "101356      -7500.00\n",
       "398429      -5500.00\n",
       "250737      -5455.00\n",
       "33821       -5414.31\n",
       "908565      -5115.00\n",
       "456649      -5000.00\n",
       "574657      -5000.00\n",
       "30513       -5000.00\n",
       "562267      -5000.00\n",
       "30584       -5000.00\n",
       "86268       -5000.00\n",
       "708920      -5000.00\n",
       "665887      -5000.00\n",
       "708899      -5000.00\n",
       "708929      -5000.00\n",
       "21172       -5000.00\n",
       "21168       -5000.00\n",
       "21167       -5000.00\n",
       "262328      -5000.00\n",
       "946875      -5000.00\n",
       "7361        -5000.00\n",
       "416403      -5000.00\n",
       "21164       -5000.00\n",
       "707945      -5000.00\n",
       "615101      -5000.00\n",
       "7973        -5000.00\n",
       "54430       -5000.00\n",
       "54434       -5000.00\n",
       "             ...    \n",
       "708022      10000.00\n",
       "708898      10000.00\n",
       "710177      10000.00\n",
       "876244      10000.00\n",
       "709608      10000.00\n",
       "708919      10000.00\n",
       "709739      10000.00\n",
       "91145       10000.00\n",
       "708138      10000.00\n",
       "993178      10000.00\n",
       "709813      10000.00\n",
       "710730      10000.00\n",
       "708928      10000.00\n",
       "709268      10000.00\n",
       "99829       10000.00\n",
       "90076       10000.00\n",
       "709859      10000.00\n",
       "41888       10000.00\n",
       "65131       12700.00\n",
       "834301      25000.00\n",
       "823345      25000.00\n",
       "217891      25800.00\n",
       "114754      33300.00\n",
       "257270     451726.00\n",
       "335187     512710.91\n",
       "319478     526246.17\n",
       "344419    1511192.17\n",
       "344539    1679114.65\n",
       "326651    1944042.43\n",
       "325136    2014490.51\n",
       "Name: contb_receipt_amt, dtype: float64"
      ]
     },
     "execution_count": 75,
     "metadata": {},
     "output_type": "execute_result"
    }
   ],
   "source": [
    "top_donor = donor_df['contb_receipt_amt'].copy()\n",
    "\n",
    "top_donor.sort()\n",
    "\n",
    "top_donor"
   ]
  },
  {
   "cell_type": "code",
   "execution_count": 76,
   "metadata": {},
   "outputs": [
    {
     "name": "stderr",
     "output_type": "stream",
     "text": [
      "C:\\Users\\yang\\Anaconda3\\envs\\python_2_7\\lib\\site-packages\\ipykernel_launcher.py:4: FutureWarning: sort is deprecated, use sort_values(inplace=True) for INPLACE sorting\n",
      "  after removing the cwd from sys.path.\n"
     ]
    }
   ],
   "source": [
    "# negative 숫자 제거\n",
    "\n",
    "top_donor = top_donor[top_donor>0]\n",
    "top_donor.sort()"
   ]
  },
  {
   "cell_type": "code",
   "execution_count": 77,
   "metadata": {},
   "outputs": [
    {
     "data": {
      "text/plain": [
       "334504    0.01\n",
       "321779    0.01\n",
       "323547    0.01\n",
       "325614    0.01\n",
       "326100    0.01\n",
       "Name: contb_receipt_amt, dtype: float64"
      ]
     },
     "execution_count": 77,
     "metadata": {},
     "output_type": "execute_result"
    }
   ],
   "source": [
    "top_donor.head()"
   ]
  },
  {
   "cell_type": "code",
   "execution_count": 78,
   "metadata": {},
   "outputs": [
    {
     "data": {
      "text/plain": [
       "100.0     178188\n",
       "50.0      137584\n",
       "25.0      110345\n",
       "250.0      91182\n",
       "500.0      57984\n",
       "2500.0     49005\n",
       "35.0       37237\n",
       "1000.0     36494\n",
       "10.0       33986\n",
       "200.0      27813\n",
       "Name: contb_receipt_amt, dtype: int64"
      ]
     },
     "execution_count": 78,
     "metadata": {},
     "output_type": "execute_result"
    }
   ],
   "source": [
    "top_donor.value_counts().head(10)"
   ]
  },
  {
   "cell_type": "code",
   "execution_count": 80,
   "metadata": {},
   "outputs": [
    {
     "data": {
      "text/plain": [
       "<matplotlib.axes._subplots.AxesSubplot at 0x18f24400>"
      ]
     },
     "execution_count": 80,
     "metadata": {},
     "output_type": "execute_result"
    },
    {
     "data": {
      "image/png": "[encoded data removed]",
      "text/plain": [
       "<matplotlib.figure.Figure at 0x18f45390>"
      ]
     },
     "metadata": {},
     "output_type": "display_data"
    }
   ],
   "source": [
    "com_don = top_donor[top_donor < 2500]\n",
    "\n",
    "com_don.hist(bins=100)"
   ]
  },
  {
   "cell_type": "code",
   "execution_count": 81,
   "metadata": {
    "collapsed": true
   },
   "outputs": [],
   "source": [
    "candidate = donor_df.cand_nm.unique()"
   ]
  },
  {
   "cell_type": "code",
   "execution_count": 82,
   "metadata": {},
   "outputs": [
    {
     "data": {
      "text/plain": [
       "array(['Bachmann, Michelle', 'Romney, Mitt', 'Obama, Barack',\n",
       "       \"Roemer, Charles E. 'Buddy' III\", 'Pawlenty, Timothy',\n",
       "       'Johnson, Gary Earl', 'Paul, Ron', 'Santorum, Rick', 'Cain, Herman',\n",
       "       'Gingrich, Newt', 'McCotter, Thaddeus G', 'Huntsman, Jon',\n",
       "       'Perry, Rick'], dtype=object)"
      ]
     },
     "execution_count": 82,
     "metadata": {},
     "output_type": "execute_result"
    }
   ],
   "source": [
    "candidate"
   ]
  },
  {
   "cell_type": "code",
   "execution_count": 83,
   "metadata": {
    "collapsed": true
   },
   "outputs": [],
   "source": [
    "# Dictionary of party affiliation\n",
    "party_map = {'Bachmann, Michelle': 'Republican',\n",
    "           'Cain, Herman': 'Republican',\n",
    "           'Gingrich, Newt': 'Republican',\n",
    "           'Huntsman, Jon': 'Republican',\n",
    "           'Johnson, Gary Earl': 'Republican',\n",
    "           'McCotter, Thaddeus G': 'Republican',\n",
    "           'Obama, Barack': 'Democrat',\n",
    "           'Paul, Ron': 'Republican',\n",
    "           'Pawlenty, Timothy': 'Republican',\n",
    "           'Perry, Rick': 'Republican',\n",
    "           \"Roemer, Charles E. 'Buddy' III\": 'Republican',\n",
    "           'Romney, Mitt': 'Republican',\n",
    "           'Santorum, Rick': 'Republican'}\n",
    "\n",
    "# Now map the party with candidate\n",
    "donor_df['Party'] = donor_df.cand_nm.map(party_map)"
   ]
  },
  {
   "cell_type": "raw",
   "metadata": {},
   "source": [
    "'''\n",
    "for i in xrange(0,len(donor_df)):\n",
    "    if donor_df['cand_nm'][i] == 'Obama,Barack':\n",
    "        donor_df['Party'][i] = 'Democrat'\n",
    "    else:\n",
    "        donor_df['Party'][i] = 'Republican'\n",
    "'''"
   ]
  },
  {
   "cell_type": "code",
   "execution_count": 86,
   "metadata": {},
   "outputs": [],
   "source": [
    "donor_df = donor_df[donor_df.contb_receipt_amt> 0]"
   ]
  },
  {
   "cell_type": "code",
   "execution_count": 87,
   "metadata": {},
   "outputs": [
    {
     "data": {
      "text/html": [
       "<div>\n",
       "<table border=\"1\" class=\"dataframe\">\n",
       "  <thead>\n",
       "    <tr style=\"text-align: right;\">\n",
       "      <th></th>\n",
       "      <th>cmte_id</th>\n",
       "      <th>cand_id</th>\n",
       "      <th>cand_nm</th>\n",
       "      <th>contbr_nm</th>\n",
       "      <th>contbr_city</th>\n",
       "      <th>contbr_st</th>\n",
       "      <th>contbr_zip</th>\n",
       "      <th>contbr_employer</th>\n",
       "      <th>contbr_occupation</th>\n",
       "      <th>contb_receipt_amt</th>\n",
       "      <th>contb_receipt_dt</th>\n",
       "      <th>receipt_desc</th>\n",
       "      <th>memo_cd</th>\n",
       "      <th>memo_text</th>\n",
       "      <th>form_tp</th>\n",
       "      <th>file_num</th>\n",
       "      <th>Party</th>\n",
       "    </tr>\n",
       "  </thead>\n",
       "  <tbody>\n",
       "    <tr>\n",
       "      <th>0</th>\n",
       "      <td>C00410118</td>\n",
       "      <td>P20002978</td>\n",
       "      <td>Bachmann, Michelle</td>\n",
       "      <td>HARVEY, WILLIAM</td>\n",
       "      <td>MOBILE</td>\n",
       "      <td>AL</td>\n",
       "      <td>3.6601e+08</td>\n",
       "      <td>RETIRED</td>\n",
       "      <td>RETIRED</td>\n",
       "      <td>250.0</td>\n",
       "      <td>20-JUN-11</td>\n",
       "      <td>NaN</td>\n",
       "      <td>NaN</td>\n",
       "      <td>NaN</td>\n",
       "      <td>SA17A</td>\n",
       "      <td>736166</td>\n",
       "      <td>Republican</td>\n",
       "    </tr>\n",
       "    <tr>\n",
       "      <th>1</th>\n",
       "      <td>C00410118</td>\n",
       "      <td>P20002978</td>\n",
       "      <td>Bachmann, Michelle</td>\n",
       "      <td>HARVEY, WILLIAM</td>\n",
       "      <td>MOBILE</td>\n",
       "      <td>AL</td>\n",
       "      <td>3.6601e+08</td>\n",
       "      <td>RETIRED</td>\n",
       "      <td>RETIRED</td>\n",
       "      <td>50.0</td>\n",
       "      <td>23-JUN-11</td>\n",
       "      <td>NaN</td>\n",
       "      <td>NaN</td>\n",
       "      <td>NaN</td>\n",
       "      <td>SA17A</td>\n",
       "      <td>736166</td>\n",
       "      <td>Republican</td>\n",
       "    </tr>\n",
       "    <tr>\n",
       "      <th>2</th>\n",
       "      <td>C00410118</td>\n",
       "      <td>P20002978</td>\n",
       "      <td>Bachmann, Michelle</td>\n",
       "      <td>SMITH, LANIER</td>\n",
       "      <td>LANETT</td>\n",
       "      <td>AL</td>\n",
       "      <td>3.68633e+08</td>\n",
       "      <td>INFORMATION REQUESTED</td>\n",
       "      <td>INFORMATION REQUESTED</td>\n",
       "      <td>250.0</td>\n",
       "      <td>05-JUL-11</td>\n",
       "      <td>NaN</td>\n",
       "      <td>NaN</td>\n",
       "      <td>NaN</td>\n",
       "      <td>SA17A</td>\n",
       "      <td>749073</td>\n",
       "      <td>Republican</td>\n",
       "    </tr>\n",
       "    <tr>\n",
       "      <th>3</th>\n",
       "      <td>C00410118</td>\n",
       "      <td>P20002978</td>\n",
       "      <td>Bachmann, Michelle</td>\n",
       "      <td>BLEVINS, DARONDA</td>\n",
       "      <td>PIGGOTT</td>\n",
       "      <td>AR</td>\n",
       "      <td>7.24548e+08</td>\n",
       "      <td>NONE</td>\n",
       "      <td>RETIRED</td>\n",
       "      <td>250.0</td>\n",
       "      <td>01-AUG-11</td>\n",
       "      <td>NaN</td>\n",
       "      <td>NaN</td>\n",
       "      <td>NaN</td>\n",
       "      <td>SA17A</td>\n",
       "      <td>749073</td>\n",
       "      <td>Republican</td>\n",
       "    </tr>\n",
       "    <tr>\n",
       "      <th>4</th>\n",
       "      <td>C00410118</td>\n",
       "      <td>P20002978</td>\n",
       "      <td>Bachmann, Michelle</td>\n",
       "      <td>WARDENBURG, HAROLD</td>\n",
       "      <td>HOT SPRINGS NATION</td>\n",
       "      <td>AR</td>\n",
       "      <td>7.19016e+08</td>\n",
       "      <td>NONE</td>\n",
       "      <td>RETIRED</td>\n",
       "      <td>300.0</td>\n",
       "      <td>20-JUN-11</td>\n",
       "      <td>NaN</td>\n",
       "      <td>NaN</td>\n",
       "      <td>NaN</td>\n",
       "      <td>SA17A</td>\n",
       "      <td>736166</td>\n",
       "      <td>Republican</td>\n",
       "    </tr>\n",
       "  </tbody>\n",
       "</table>\n",
       "</div>"
      ],
      "text/plain": [
       "     cmte_id    cand_id             cand_nm           contbr_nm  \\\n",
       "0  C00410118  P20002978  Bachmann, Michelle     HARVEY, WILLIAM   \n",
       "1  C00410118  P20002978  Bachmann, Michelle     HARVEY, WILLIAM   \n",
       "2  C00410118  P20002978  Bachmann, Michelle       SMITH, LANIER   \n",
       "3  C00410118  P20002978  Bachmann, Michelle    BLEVINS, DARONDA   \n",
       "4  C00410118  P20002978  Bachmann, Michelle  WARDENBURG, HAROLD   \n",
       "\n",
       "          contbr_city contbr_st   contbr_zip        contbr_employer  \\\n",
       "0              MOBILE        AL   3.6601e+08                RETIRED   \n",
       "1              MOBILE        AL   3.6601e+08                RETIRED   \n",
       "2              LANETT        AL  3.68633e+08  INFORMATION REQUESTED   \n",
       "3             PIGGOTT        AR  7.24548e+08                   NONE   \n",
       "4  HOT SPRINGS NATION        AR  7.19016e+08                   NONE   \n",
       "\n",
       "       contbr_occupation  contb_receipt_amt contb_receipt_dt receipt_desc  \\\n",
       "0                RETIRED              250.0        20-JUN-11          NaN   \n",
       "1                RETIRED               50.0        23-JUN-11          NaN   \n",
       "2  INFORMATION REQUESTED              250.0        05-JUL-11          NaN   \n",
       "3                RETIRED              250.0        01-AUG-11          NaN   \n",
       "4                RETIRED              300.0        20-JUN-11          NaN   \n",
       "\n",
       "  memo_cd memo_text form_tp  file_num       Party  \n",
       "0     NaN       NaN   SA17A    736166  Republican  \n",
       "1     NaN       NaN   SA17A    736166  Republican  \n",
       "2     NaN       NaN   SA17A    749073  Republican  \n",
       "3     NaN       NaN   SA17A    749073  Republican  \n",
       "4     NaN       NaN   SA17A    736166  Republican  "
      ]
     },
     "execution_count": 87,
     "metadata": {},
     "output_type": "execute_result"
    }
   ],
   "source": [
    "donor_df.head()"
   ]
  },
  {
   "cell_type": "code",
   "execution_count": 88,
   "metadata": {},
   "outputs": [
    {
     "data": {
      "text/plain": [
       "cand_nm\n",
       "Bachmann, Michelle                 13082\n",
       "Cain, Herman                       20052\n",
       "Gingrich, Newt                     46883\n",
       "Huntsman, Jon                       4066\n",
       "Johnson, Gary Earl                  1234\n",
       "McCotter, Thaddeus G                  73\n",
       "Obama, Barack                     589127\n",
       "Paul, Ron                         143161\n",
       "Pawlenty, Timothy                   3844\n",
       "Perry, Rick                        12709\n",
       "Roemer, Charles E. 'Buddy' III      5844\n",
       "Romney, Mitt                      105155\n",
       "Santorum, Rick                     46245\n",
       "Name: contb_receipt_amt, dtype: int64"
      ]
     },
     "execution_count": 88,
     "metadata": {},
     "output_type": "execute_result"
    }
   ],
   "source": [
    "donor_df.groupby('cand_nm')['contb_receipt_amt'].count()"
   ]
  },
  {
   "cell_type": "code",
   "execution_count": 89,
   "metadata": {},
   "outputs": [
    {
     "data": {
      "text/plain": [
       "cand_nm\n",
       "Bachmann, Michelle                2.711439e+06\n",
       "Cain, Herman                      7.101082e+06\n",
       "Gingrich, Newt                    1.283277e+07\n",
       "Huntsman, Jon                     3.330373e+06\n",
       "Johnson, Gary Earl                5.669616e+05\n",
       "McCotter, Thaddeus G              3.903000e+04\n",
       "Obama, Barack                     1.358774e+08\n",
       "Paul, Ron                         2.100962e+07\n",
       "Pawlenty, Timothy                 6.004819e+06\n",
       "Perry, Rick                       2.030575e+07\n",
       "Roemer, Charles E. 'Buddy' III    3.730099e+05\n",
       "Romney, Mitt                      8.833591e+07\n",
       "Santorum, Rick                    1.104316e+07\n",
       "Name: contb_receipt_amt, dtype: float64"
      ]
     },
     "execution_count": 89,
     "metadata": {},
     "output_type": "execute_result"
    }
   ],
   "source": [
    "donor_df.groupby('cand_nm')['contb_receipt_amt'].sum()"
   ]
  },
  {
   "cell_type": "code",
   "execution_count": 90,
   "metadata": {},
   "outputs": [
    {
     "name": "stdout",
     "output_type": "stream",
     "text": [
      "The candidate Bachmann, Michelle raise 2711439 dollars\n",
      "\n",
      "\n",
      "The candidate Cain, Herman raise 7101082 dollars\n",
      "\n",
      "\n",
      "The candidate Gingrich, Newt raise 12832770 dollars\n",
      "\n",
      "\n",
      "The candidate Huntsman, Jon raise 3330373 dollars\n",
      "\n",
      "\n",
      "The candidate Johnson, Gary Earl raise 566962 dollars\n",
      "\n",
      "\n",
      "The candidate McCotter, Thaddeus G raise 39030 dollars\n",
      "\n",
      "\n",
      "The candidate Obama, Barack raise 135877427 dollars\n",
      "\n",
      "\n",
      "The candidate Paul, Ron raise 21009620 dollars\n",
      "\n",
      "\n",
      "The candidate Pawlenty, Timothy raise 6004819 dollars\n",
      "\n",
      "\n",
      "The candidate Perry, Rick raise 20305754 dollars\n",
      "\n",
      "\n",
      "The candidate Roemer, Charles E. 'Buddy' III raise 373010 dollars\n",
      "\n",
      "\n",
      "The candidate Romney, Mitt raise 88335908 dollars\n",
      "\n",
      "\n",
      "The candidate Santorum, Rick raise 11043159 dollars\n",
      "\n",
      "\n"
     ]
    }
   ],
   "source": [
    "cand_amount = _\n",
    "\n",
    "i = 0\n",
    "\n",
    "for don in cand_amount:\n",
    "    print 'The candidate %s raise %.0f dollars' %(cand_amount.index[i],don)\n",
    "    print '\\n'\n",
    "    i+=1"
   ]
  },
  {
   "cell_type": "code",
   "execution_count": 91,
   "metadata": {},
   "outputs": [
    {
     "data": {
      "text/plain": [
       "<matplotlib.axes._subplots.AxesSubplot at 0x11029a90>"
      ]
     },
     "execution_count": 91,
     "metadata": {},
     "output_type": "execute_result"
    },
    {
     "data": {
      "image/png": "[encoded data removed]",
      "text/plain": [
       "<matplotlib.figure.Figure at 0x161e8b00>"
      ]
     },
     "metadata": {},
     "output_type": "display_data"
    }
   ],
   "source": [
    "cand_amount.plot(kind='bar')"
   ]
  },
  {
   "cell_type": "code",
   "execution_count": 92,
   "metadata": {},
   "outputs": [
    {
     "data": {
      "text/plain": [
       "<matplotlib.axes._subplots.AxesSubplot at 0x18aa8668>"
      ]
     },
     "execution_count": 92,
     "metadata": {},
     "output_type": "execute_result"
    },
    {
     "data": {
      "image/png": "[encoded data removed]",
      "text/plain": [
       "<matplotlib.figure.Figure at 0x18aba9e8>"
      ]
     },
     "metadata": {},
     "output_type": "display_data"
    }
   ],
   "source": [
    "donor_df.groupby('Party')['contb_receipt_amt'].sum().plot(kind='bar')"
   ]
  },
  {
   "cell_type": "code",
   "execution_count": 93,
   "metadata": {
    "collapsed": true
   },
   "outputs": [],
   "source": [
    "occupation_df = donor_df.pivot_table('contb_receipt_amt',\n",
    "                                    index='contbr_occupation',\n",
    "                                    columns='Party',\n",
    "                                    aggfunc='sum')"
   ]
  },
  {
   "cell_type": "code",
   "execution_count": 94,
   "metadata": {},
   "outputs": [
    {
     "data": {
      "text/html": [
       "<div>\n",
       "<table border=\"1\" class=\"dataframe\">\n",
       "  <thead>\n",
       "    <tr style=\"text-align: right;\">\n",
       "      <th>Party</th>\n",
       "      <th>Democrat</th>\n",
       "      <th>Republican</th>\n",
       "    </tr>\n",
       "    <tr>\n",
       "      <th>contbr_occupation</th>\n",
       "      <th></th>\n",
       "      <th></th>\n",
       "    </tr>\n",
       "  </thead>\n",
       "  <tbody>\n",
       "    <tr>\n",
       "      <th>MIXED-MEDIA ARTIST / STORYTELLER</th>\n",
       "      <td>100.0</td>\n",
       "      <td>NaN</td>\n",
       "    </tr>\n",
       "    <tr>\n",
       "      <th>AREA VICE PRESIDENT</th>\n",
       "      <td>250.0</td>\n",
       "      <td>NaN</td>\n",
       "    </tr>\n",
       "    <tr>\n",
       "      <th>RESEARCH ASSOCIATE</th>\n",
       "      <td>100.0</td>\n",
       "      <td>NaN</td>\n",
       "    </tr>\n",
       "    <tr>\n",
       "      <th>TEACHER</th>\n",
       "      <td>500.0</td>\n",
       "      <td>NaN</td>\n",
       "    </tr>\n",
       "    <tr>\n",
       "      <th>THERAPIST</th>\n",
       "      <td>3900.0</td>\n",
       "      <td>NaN</td>\n",
       "    </tr>\n",
       "  </tbody>\n",
       "</table>\n",
       "</div>"
      ],
      "text/plain": [
       "Party                                Democrat  Republican\n",
       "contbr_occupation                                        \n",
       "   MIXED-MEDIA ARTIST / STORYTELLER     100.0         NaN\n",
       " AREA VICE PRESIDENT                    250.0         NaN\n",
       " RESEARCH ASSOCIATE                     100.0         NaN\n",
       " TEACHER                                500.0         NaN\n",
       " THERAPIST                             3900.0         NaN"
      ]
     },
     "execution_count": 94,
     "metadata": {},
     "output_type": "execute_result"
    }
   ],
   "source": [
    "occupation_df.head()"
   ]
  },
  {
   "cell_type": "code",
   "execution_count": 95,
   "metadata": {},
   "outputs": [
    {
     "data": {
      "text/plain": [
       "(45067, 2)"
      ]
     },
     "execution_count": 95,
     "metadata": {},
     "output_type": "execute_result"
    }
   ],
   "source": [
    "occupation_df.shape"
   ]
  },
  {
   "cell_type": "code",
   "execution_count": 96,
   "metadata": {
    "collapsed": true
   },
   "outputs": [],
   "source": [
    "occupation_df = occupation_df[occupation_df.sum(1)>1000000]"
   ]
  },
  {
   "cell_type": "code",
   "execution_count": 97,
   "metadata": {},
   "outputs": [
    {
     "data": {
      "text/plain": [
       "(31, 2)"
      ]
     },
     "execution_count": 97,
     "metadata": {},
     "output_type": "execute_result"
    }
   ],
   "source": [
    "occupation_df.shape"
   ]
  },
  {
   "cell_type": "code",
   "execution_count": 98,
   "metadata": {},
   "outputs": [
    {
     "data": {
      "text/plain": [
       "<matplotlib.axes._subplots.AxesSubplot at 0xea48780>"
      ]
     },
     "execution_count": 98,
     "metadata": {},
     "output_type": "execute_result"
    },
    {
     "data": {
      "image/png": "[encoded data removed]",
      "text/plain": [
       "<matplotlib.figure.Figure at 0x19114518>"
      ]
     },
     "metadata": {},
     "output_type": "display_data"
    }
   ],
   "source": [
    "occupation_df.plot(kind='bar')"
   ]
  },
  {
   "cell_type": "code",
   "execution_count": 100,
   "metadata": {},
   "outputs": [
    {
     "data": {
      "text/plain": [
       "<matplotlib.axes._subplots.AxesSubplot at 0xdba7128>"
      ]
     },
     "execution_count": 100,
     "metadata": {},
     "output_type": "execute_result"
    },
    {
     "data": {
      "image/png": "[encoded data removed]",
      "text/plain": [
       "<matplotlib.figure.Figure at 0xe86f358>"
      ]
     },
     "metadata": {},
     "output_type": "display_data"
    }
   ],
   "source": [
    "occupation_df.plot(kind='barh', figsize=(10,12),cmap='seismic')"
   ]
  },
  {
   "cell_type": "code",
   "execution_count": 101,
   "metadata": {
    "collapsed": true
   },
   "outputs": [],
   "source": [
    "occupation_df.drop(['INFORMATION REQUESTED PER BEST EFFORTS', 'INFORMATION REQUESTED'], axis=0,inplace=True)"
   ]
  },
  {
   "cell_type": "code",
   "execution_count": 107,
   "metadata": {},
   "outputs": [
    {
     "data": {
      "text/html": [
       "<div>\n",
       "<table border=\"1\" class=\"dataframe\">\n",
       "  <thead>\n",
       "    <tr style=\"text-align: right;\">\n",
       "      <th>Party</th>\n",
       "      <th>Democrat</th>\n",
       "      <th>Republican</th>\n",
       "    </tr>\n",
       "    <tr>\n",
       "      <th>contbr_occupation</th>\n",
       "      <th></th>\n",
       "      <th></th>\n",
       "    </tr>\n",
       "  </thead>\n",
       "  <tbody>\n",
       "    <tr>\n",
       "      <th>ATTORNEY</th>\n",
       "      <td>11141982.97</td>\n",
       "      <td>7.477194e+06</td>\n",
       "    </tr>\n",
       "    <tr>\n",
       "      <th>BANKER</th>\n",
       "      <td>224084.40</td>\n",
       "      <td>1.259469e+06</td>\n",
       "    </tr>\n",
       "    <tr>\n",
       "      <th>BUSINESS OWNER</th>\n",
       "      <td>449979.30</td>\n",
       "      <td>1.323342e+06</td>\n",
       "    </tr>\n",
       "    <tr>\n",
       "      <th>CEO</th>\n",
       "      <td>2080044.79</td>\n",
       "      <td>1.198999e+07</td>\n",
       "    </tr>\n",
       "    <tr>\n",
       "      <th>CHAIRMAN</th>\n",
       "      <td>496547.00</td>\n",
       "      <td>1.296093e+06</td>\n",
       "    </tr>\n",
       "    <tr>\n",
       "      <th>CONSULTANT</th>\n",
       "      <td>2459912.71</td>\n",
       "      <td>2.544725e+06</td>\n",
       "    </tr>\n",
       "    <tr>\n",
       "      <th>ENGINEER</th>\n",
       "      <td>951525.55</td>\n",
       "      <td>1.818374e+06</td>\n",
       "    </tr>\n",
       "    <tr>\n",
       "      <th>EXECUTIVE</th>\n",
       "      <td>1355161.05</td>\n",
       "      <td>4.138850e+06</td>\n",
       "    </tr>\n",
       "    <tr>\n",
       "      <th>FINANCE</th>\n",
       "      <td>296031.40</td>\n",
       "      <td>1.402515e+06</td>\n",
       "    </tr>\n",
       "    <tr>\n",
       "      <th>HOMEMAKER</th>\n",
       "      <td>4248875.80</td>\n",
       "      <td>1.363428e+07</td>\n",
       "    </tr>\n",
       "    <tr>\n",
       "      <th>INVESTMENTS</th>\n",
       "      <td>160480.00</td>\n",
       "      <td>1.018668e+06</td>\n",
       "    </tr>\n",
       "    <tr>\n",
       "      <th>INVESTOR</th>\n",
       "      <td>884133.00</td>\n",
       "      <td>2.431769e+06</td>\n",
       "    </tr>\n",
       "    <tr>\n",
       "      <th>LAWYER</th>\n",
       "      <td>3160478.87</td>\n",
       "      <td>3.912243e+05</td>\n",
       "    </tr>\n",
       "    <tr>\n",
       "      <th>MANAGER</th>\n",
       "      <td>762883.22</td>\n",
       "      <td>1.444532e+06</td>\n",
       "    </tr>\n",
       "    <tr>\n",
       "      <th>NOT EMPLOYED</th>\n",
       "      <td>1709188.20</td>\n",
       "      <td>4.481973e+04</td>\n",
       "    </tr>\n",
       "    <tr>\n",
       "      <th>OWNER</th>\n",
       "      <td>1001567.36</td>\n",
       "      <td>2.408287e+06</td>\n",
       "    </tr>\n",
       "    <tr>\n",
       "      <th>PARTNER</th>\n",
       "      <td>395759.50</td>\n",
       "      <td>8.421771e+05</td>\n",
       "    </tr>\n",
       "    <tr>\n",
       "      <th>PHYSICIAN</th>\n",
       "      <td>3735124.94</td>\n",
       "      <td>3.594320e+06</td>\n",
       "    </tr>\n",
       "    <tr>\n",
       "      <th>PRESIDENT</th>\n",
       "      <td>1878509.95</td>\n",
       "      <td>4.720924e+06</td>\n",
       "    </tr>\n",
       "    <tr>\n",
       "      <th>PROFESSOR</th>\n",
       "      <td>2165071.08</td>\n",
       "      <td>2.967027e+05</td>\n",
       "    </tr>\n",
       "    <tr>\n",
       "      <th>REAL ESTATE</th>\n",
       "      <td>528902.09</td>\n",
       "      <td>1.625902e+06</td>\n",
       "    </tr>\n",
       "    <tr>\n",
       "      <th>RETIRED</th>\n",
       "      <td>25305116.38</td>\n",
       "      <td>2.356124e+07</td>\n",
       "    </tr>\n",
       "    <tr>\n",
       "      <th>SALES</th>\n",
       "      <td>392886.91</td>\n",
       "      <td>1.455465e+06</td>\n",
       "    </tr>\n",
       "    <tr>\n",
       "      <th>SELF-EMPLOYED</th>\n",
       "      <td>672393.40</td>\n",
       "      <td>1.640253e+06</td>\n",
       "    </tr>\n",
       "    <tr>\n",
       "      <th>STUDENT</th>\n",
       "      <td>628099.75</td>\n",
       "      <td>1.073284e+06</td>\n",
       "    </tr>\n",
       "    <tr>\n",
       "      <th>TEACHER</th>\n",
       "      <td>1250969.15</td>\n",
       "      <td>4.639849e+05</td>\n",
       "    </tr>\n",
       "    <tr>\n",
       "      <th>VICE PRESIDENT</th>\n",
       "      <td>325647.15</td>\n",
       "      <td>8.801623e+05</td>\n",
       "    </tr>\n",
       "    <tr>\n",
       "      <th>WRITER</th>\n",
       "      <td>1084188.88</td>\n",
       "      <td>2.279284e+05</td>\n",
       "    </tr>\n",
       "  </tbody>\n",
       "</table>\n",
       "</div>"
      ],
      "text/plain": [
       "Party                 Democrat    Republican\n",
       "contbr_occupation                           \n",
       "ATTORNEY           11141982.97  7.477194e+06\n",
       "BANKER               224084.40  1.259469e+06\n",
       "BUSINESS OWNER       449979.30  1.323342e+06\n",
       "CEO                 2080044.79  1.198999e+07\n",
       "CHAIRMAN             496547.00  1.296093e+06\n",
       "CONSULTANT          2459912.71  2.544725e+06\n",
       "ENGINEER             951525.55  1.818374e+06\n",
       "EXECUTIVE           1355161.05  4.138850e+06\n",
       "FINANCE              296031.40  1.402515e+06\n",
       "HOMEMAKER           4248875.80  1.363428e+07\n",
       "INVESTMENTS          160480.00  1.018668e+06\n",
       "INVESTOR             884133.00  2.431769e+06\n",
       "LAWYER              3160478.87  3.912243e+05\n",
       "MANAGER              762883.22  1.444532e+06\n",
       "NOT EMPLOYED        1709188.20  4.481973e+04\n",
       "OWNER               1001567.36  2.408287e+06\n",
       "PARTNER              395759.50  8.421771e+05\n",
       "PHYSICIAN           3735124.94  3.594320e+06\n",
       "PRESIDENT           1878509.95  4.720924e+06\n",
       "PROFESSOR           2165071.08  2.967027e+05\n",
       "REAL ESTATE          528902.09  1.625902e+06\n",
       "RETIRED            25305116.38  2.356124e+07\n",
       "SALES                392886.91  1.455465e+06\n",
       "SELF-EMPLOYED        672393.40  1.640253e+06\n",
       "STUDENT              628099.75  1.073284e+06\n",
       "TEACHER             1250969.15  4.639849e+05\n",
       "VICE PRESIDENT       325647.15  8.801623e+05\n",
       "WRITER              1084188.88  2.279284e+05"
      ]
     },
     "execution_count": 107,
     "metadata": {},
     "output_type": "execute_result"
    }
   ],
   "source": [
    "occupation_df.loc['CEO']=occupation_df.loc['CEO']+ occupation_df.loc['C.E.O.']\n",
    "\n",
    "occupation_df.drop('C.E.O.', inplace=True)\n",
    "occupation_df"
   ]
  },
  {
   "cell_type": "code",
   "execution_count": 108,
   "metadata": {},
   "outputs": [
    {
     "data": {
      "text/plain": [
       "<matplotlib.axes._subplots.AxesSubplot at 0x13326358>"
      ]
     },
     "execution_count": 108,
     "metadata": {},
     "output_type": "execute_result"
    },
    {
     "data": {
      "image/png": "[encoded data removed]",
      "text/plain": [
       "<matplotlib.figure.Figure at 0x194283c8>"
      ]
     },
     "metadata": {},
     "output_type": "display_data"
    }
   ],
   "source": [
    "occupation_df.plot(kind='barh', figsize=(10,12),cmap='seismic')"
   ]
  },
  {
   "cell_type": "code",
   "execution_count": null,
   "metadata": {
    "collapsed": true
   },
   "outputs": [],
   "source": []
  }
 ],
 "metadata": {
  "kernelspec": {
   "display_name": "Python 2",
   "language": "python",
   "name": "python2"
  },
  "language_info": {
   "codemirror_mode": {
    "name": "ipython",
    "version": 2
   },
   "file_extension": ".py",
   "mimetype": "text/x-python",
   "name": "python",
   "nbconvert_exporter": "python",
   "pygments_lexer": "ipython2",
   "version": "2.7.13"
  }
 },
 "nbformat": 4,
 "nbformat_minor": 2
}
